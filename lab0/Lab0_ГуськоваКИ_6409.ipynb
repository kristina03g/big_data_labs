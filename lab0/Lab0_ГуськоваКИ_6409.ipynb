{
  "cells": [
    {
      "cell_type": "markdown",
      "metadata": {
        "id": "82OvPKEiEqjc"
      },
      "source": [
        "# Введение в MapReduce модель на Python\n"
      ]
    },
    {
      "cell_type": "code",
      "execution_count": 1,
      "metadata": {
        "id": "JQ2cvXLjICmI"
      },
      "outputs": [],
      "source": [
        "from typing import NamedTuple # requires python 3.6+\n",
        "from typing import Iterator"
      ]
    },
    {
      "cell_type": "code",
      "execution_count": 2,
      "metadata": {
        "id": "yjPHumVwEyEg"
      },
      "outputs": [],
      "source": [
        "def MAP(_, row:NamedTuple):\n",
        "  if (row.gender == 'female'):\n",
        "    yield (row.age, row)\n",
        "    \n",
        "def REDUCE(age:str, rows:Iterator[NamedTuple]):\n",
        "  sum = 0\n",
        "  count = 0\n",
        "  for row in rows:\n",
        "    sum += row.social_contacts\n",
        "    count += 1\n",
        "  if (count > 0):\n",
        "    yield (age, sum/count)\n",
        "  else:\n",
        "    yield (age, 0)"
      ]
    },
    {
      "cell_type": "markdown",
      "metadata": {
        "id": "vBKMgpG_ilaZ"
      },
      "source": [
        "Модель элемента данных"
      ]
    },
    {
      "cell_type": "code",
      "execution_count": 3,
      "metadata": {
        "id": "Rv-XIjhTJPx3"
      },
      "outputs": [],
      "source": [
        "class User(NamedTuple):\n",
        "  id: int\n",
        "  age: str\n",
        "  social_contacts: int\n",
        "  gender: str"
      ]
    },
    {
      "cell_type": "code",
      "execution_count": 4,
      "metadata": {
        "id": "5KV0Ze2vQgu5"
      },
      "outputs": [],
      "source": [
        "input_collection = [\n",
        "    User(id=0, age=55, gender='male', social_contacts=20),\n",
        "    User(id=1, age=25, gender='female', social_contacts=240),\n",
        "    User(id=2, age=25, gender='female', social_contacts=500),\n",
        "    User(id=3, age=33, gender='female', social_contacts=800)\n",
        "]"
      ]
    },
    {
      "cell_type": "markdown",
      "metadata": {
        "id": "YFeqzyZxZIFZ"
      },
      "source": [
        "Функция RECORDREADER моделирует чтение элементов с диска или по сети."
      ]
    },
    {
      "cell_type": "code",
      "execution_count": 5,
      "metadata": {
        "id": "S5HR4E_GQoMJ"
      },
      "outputs": [],
      "source": [
        "def RECORDREADER():\n",
        "  return [(u.id, u) for u in input_collection]"
      ]
    },
    {
      "cell_type": "code",
      "execution_count": 6,
      "metadata": {
        "colab": {
          "base_uri": "https://localhost:8080/",
          "height": 85
        },
        "id": "NeEoWla-ROUy",
        "outputId": "94ca6e0e-4644-4282-acbf-1759d7ba2918"
      },
      "outputs": [
        {
          "data": {
            "text/plain": [
              "[(0, User(id=0, age=55, social_contacts=20, gender='male')),\n",
              " (1, User(id=1, age=25, social_contacts=240, gender='female')),\n",
              " (2, User(id=2, age=25, social_contacts=500, gender='female')),\n",
              " (3, User(id=3, age=33, social_contacts=800, gender='female'))]"
            ]
          },
          "execution_count": 6,
          "metadata": {},
          "output_type": "execute_result"
        }
      ],
      "source": [
        "list(RECORDREADER())"
      ]
    },
    {
      "cell_type": "code",
      "execution_count": 7,
      "metadata": {
        "id": "YB8orgPSZs8M"
      },
      "outputs": [],
      "source": [
        "def flatten(nested_iterable):\n",
        "  for iterable in nested_iterable:\n",
        "    for element in iterable:\n",
        "      yield element"
      ]
    },
    {
      "cell_type": "code",
      "execution_count": 8,
      "metadata": {
        "colab": {
          "base_uri": "https://localhost:8080/",
          "height": 68
        },
        "id": "74oyvDLaRmd5",
        "outputId": "c6147702-7153-47c7-a574-d5fe6abe29a8"
      },
      "outputs": [
        {
          "data": {
            "text/plain": [
              "[(25, User(id=1, age=25, social_contacts=240, gender='female')),\n",
              " (25, User(id=2, age=25, social_contacts=500, gender='female')),\n",
              " (33, User(id=3, age=33, social_contacts=800, gender='female'))]"
            ]
          },
          "execution_count": 8,
          "metadata": {},
          "output_type": "execute_result"
        }
      ],
      "source": [
        "map_output = flatten(map(lambda x: MAP(*x), RECORDREADER()))\n",
        "map_output = list(map_output) # materialize\n",
        "map_output"
      ]
    },
    {
      "cell_type": "code",
      "execution_count": 9,
      "metadata": {
        "id": "8ncYDJ3-VzDn"
      },
      "outputs": [],
      "source": [
        "def groupbykey(iterable):\n",
        "  t = {}\n",
        "  for (k2, v2) in iterable:\n",
        "    t[k2] = t.get(k2, []) + [v2]\n",
        "  return t.items()"
      ]
    },
    {
      "cell_type": "code",
      "execution_count": 10,
      "metadata": {
        "colab": {
          "base_uri": "https://localhost:8080/",
          "height": 85
        },
        "id": "cKzY_6COWOA2",
        "outputId": "e6791b12-e409-47e9-bcd4-e9f8ca8611bd"
      },
      "outputs": [
        {
          "data": {
            "text/plain": [
              "[(25,\n",
              "  [User(id=1, age=25, social_contacts=240, gender='female'),\n",
              "   User(id=2, age=25, social_contacts=500, gender='female')]),\n",
              " (33, [User(id=3, age=33, social_contacts=800, gender='female')])]"
            ]
          },
          "execution_count": 10,
          "metadata": {},
          "output_type": "execute_result"
        }
      ],
      "source": [
        "shuffle_output = groupbykey(map_output)\n",
        "shuffle_output = list(shuffle_output)\n",
        "shuffle_output"
      ]
    },
    {
      "cell_type": "code",
      "execution_count": 11,
      "metadata": {
        "colab": {
          "base_uri": "https://localhost:8080/",
          "height": 34
        },
        "id": "NlA7lkDDYL0t",
        "outputId": "6b25d03f-5c92-4f3b-f500-6d70acd598b7"
      },
      "outputs": [
        {
          "data": {
            "text/plain": [
              "[(25, 370.0), (33, 800.0)]"
            ]
          },
          "execution_count": 11,
          "metadata": {},
          "output_type": "execute_result"
        }
      ],
      "source": [
        "reduce_output = flatten(map(lambda x: REDUCE(*x), shuffle_output))\n",
        "reduce_output = list(reduce_output)\n",
        "reduce_output"
      ]
    },
    {
      "cell_type": "markdown",
      "metadata": {
        "id": "xf6qhHEtd6bI"
      },
      "source": [
        "Все действия одним конвейером!"
      ]
    },
    {
      "cell_type": "code",
      "execution_count": 12,
      "metadata": {
        "colab": {
          "base_uri": "https://localhost:8080/",
          "height": 34
        },
        "id": "dZaQGYxCdpw5",
        "outputId": "3f5c6425-e5c5-49d2-b2cd-ce58a9acc33c"
      },
      "outputs": [
        {
          "data": {
            "text/plain": [
              "[(25, 370.0), (33, 800.0)]"
            ]
          },
          "execution_count": 12,
          "metadata": {},
          "output_type": "execute_result"
        }
      ],
      "source": [
        "list(flatten(map(lambda x: REDUCE(*x), groupbykey(flatten(map(lambda x: MAP(*x), RECORDREADER()))))))"
      ]
    },
    {
      "cell_type": "markdown",
      "metadata": {
        "id": "Vq3EWRIpwSiJ"
      },
      "source": [
        "# **MapReduce**\n",
        "Выделим общую для всех пользователей часть системы в отдельную функцию высшего порядка. Это наиболее простая модель MapReduce, без учёта распределённого хранения данных. \n",
        "\n",
        "Пользователь для решения своей задачи реализует RECORDREADER, MAP, REDUCE."
      ]
    },
    {
      "cell_type": "code",
      "execution_count": 13,
      "metadata": {
        "id": "V1PZeQMwwVjc"
      },
      "outputs": [],
      "source": [
        "def flatten(nested_iterable):\n",
        "  for iterable in nested_iterable:\n",
        "    for element in iterable:\n",
        "      yield element\n",
        "\n",
        "def groupbykey(iterable):\n",
        "  t = {}\n",
        "  for (k2, v2) in iterable:\n",
        "    t[k2] = t.get(k2, []) + [v2]\n",
        "  return t.items()\n",
        "\n",
        "def MapReduce(RECORDREADER, MAP, REDUCE):\n",
        "  return flatten(map(lambda x: REDUCE(*x), groupbykey(flatten(map(lambda x: MAP(*x), RECORDREADER())))))"
      ]
    },
    {
      "cell_type": "markdown",
      "metadata": {
        "id": "iFIVrimep678"
      },
      "source": [
        "## Спецификация MapReduce\n",
        "\n",
        "\n",
        "\n",
        "```\n",
        "f (k1, v1) -> (k2,v2)*\n",
        "g (k2, v2*) -> (k3,v3)*\n",
        " \n",
        "mapreduce ((k1,v1)*) -> (k3,v3)*\n",
        "groupby ((k2,v2)*) -> (k2,v2*)*\n",
        "flatten (e2**) -> e2*\n",
        " \n",
        "mapreduce .map(f).flatten.groupby(k2).map(g).flatten\n",
        "```\n",
        "\n",
        "\n"
      ]
    },
    {
      "cell_type": "markdown",
      "metadata": {
        "id": "QtTFyqke3KGe"
      },
      "source": [
        "# Примеры"
      ]
    },
    {
      "cell_type": "markdown",
      "metadata": {
        "id": "BNhh5763w5Vn"
      },
      "source": [
        "## SQL "
      ]
    },
    {
      "cell_type": "code",
      "execution_count": 14,
      "metadata": {
        "colab": {
          "base_uri": "https://localhost:8080/",
          "height": 34
        },
        "id": "QkyurnvGxBGk",
        "outputId": "84761282-d2ba-435a-e8d7-a85150730e10"
      },
      "outputs": [
        {
          "data": {
            "text/plain": [
              "[(25, 370.0), (33, 800.0)]"
            ]
          },
          "execution_count": 14,
          "metadata": {},
          "output_type": "execute_result"
        }
      ],
      "source": [
        "from typing import NamedTuple # requires python 3.6+\n",
        "from typing import Iterator\n",
        "\n",
        "class User(NamedTuple):\n",
        "  id: int\n",
        "  age: str\n",
        "  social_contacts: int\n",
        "  gender: str\n",
        "    \n",
        "input_collection = [\n",
        "    User(id=0, age=55, gender='male', social_contacts=20),\n",
        "    User(id=1, age=25, gender='female', social_contacts=240),\n",
        "    User(id=2, age=25, gender='female', social_contacts=500),\n",
        "    User(id=3, age=33, gender='female', social_contacts=800)\n",
        "]\n",
        "\n",
        "def MAP(_, row:NamedTuple):\n",
        "  if (row.gender == 'female'):\n",
        "    yield (row.age, row)\n",
        "    \n",
        "def REDUCE(age:str, rows:Iterator[NamedTuple]):\n",
        "  sum = 0\n",
        "  count = 0\n",
        "  for row in rows:\n",
        "    sum += row.social_contacts\n",
        "    count += 1\n",
        "  if (count > 0):\n",
        "    yield (age, sum/count)\n",
        "  else:\n",
        "    yield (age, 0)\n",
        " \n",
        "def RECORDREADER():\n",
        "  return [(u.id, u) for u in input_collection]\n",
        "\n",
        "output = MapReduce(RECORDREADER, MAP, REDUCE)\n",
        "output = list(output)\n",
        "output"
      ]
    },
    {
      "cell_type": "markdown",
      "metadata": {
        "id": "kNKYIeerx0nY"
      },
      "source": [
        "## Matrix-Vector multiplication "
      ]
    },
    {
      "cell_type": "code",
      "execution_count": 15,
      "metadata": {
        "colab": {
          "base_uri": "https://localhost:8080/",
          "height": 102
        },
        "id": "rwcntRcCyi1V",
        "outputId": "606737ab-6b55-455c-931f-4fc45155f8a9"
      },
      "outputs": [
        {
          "data": {
            "text/plain": [
              "[(0, 2.7644114811800313),\n",
              " (1, 2.7644114811800313),\n",
              " (2, 2.7644114811800313),\n",
              " (3, 2.7644114811800313),\n",
              " (4, 2.7644114811800313)]"
            ]
          },
          "execution_count": 15,
          "metadata": {},
          "output_type": "execute_result"
        }
      ],
      "source": [
        "from typing import Iterator\n",
        "import numpy as np\n",
        "\n",
        "mat = np.ones((5,4))\n",
        "vec = np.random.rand(4) # in-memory vector in all map tasks\n",
        "\n",
        "def MAP(coordinates:(int, int), value:int):\n",
        "  i, j = coordinates\n",
        "  yield (i, value*vec[j])\n",
        " \n",
        "def REDUCE(i:int, products:Iterator[NamedTuple]):\n",
        "  sum = 0\n",
        "  for p in products:\n",
        "    sum += p\n",
        "  yield (i, sum)\n",
        "\n",
        "def RECORDREADER():\n",
        "  for i in range(mat.shape[0]):\n",
        "    for j in range(mat.shape[1]):\n",
        "      yield ((i, j), mat[i,j])\n",
        "      \n",
        "output = MapReduce(RECORDREADER, MAP, REDUCE)\n",
        "output = list(output)\n",
        "output"
      ]
    },
    {
      "cell_type": "markdown",
      "metadata": {
        "id": "ruZREYdi2o4O"
      },
      "source": [
        "## Inverted index "
      ]
    },
    {
      "cell_type": "code",
      "execution_count": 16,
      "metadata": {
        "colab": {
          "base_uri": "https://localhost:8080/",
          "height": 102
        },
        "id": "vt9H9Alf3TYv",
        "outputId": "51aeffc9-e111-4607-bd84-cfcc7b56f238"
      },
      "outputs": [
        {
          "data": {
            "text/plain": [
              "[('what', ['0', '1']),\n",
              " ('it', ['0', '1', '2']),\n",
              " ('is', ['0', '1', '2']),\n",
              " ('banana', ['2']),\n",
              " ('a', ['2'])]"
            ]
          },
          "execution_count": 16,
          "metadata": {},
          "output_type": "execute_result"
        }
      ],
      "source": [
        "from typing import Iterator\n",
        "\n",
        "d1 = \"it is what it is\"\n",
        "d2 = \"what is it\"\n",
        "d3 = \"it is a banana\"\n",
        "documents = [d1, d2, d3]\n",
        "\n",
        "def RECORDREADER():\n",
        "  for (docid, document) in enumerate(documents):\n",
        "    yield (\"{}\".format(docid), document)\n",
        "      \n",
        "def MAP(docId:str, body:str):\n",
        "  for word in set(body.split(' ')):\n",
        "    yield (word, docId)\n",
        " \n",
        "def REDUCE(word:str, docIds:Iterator[str]):\n",
        "  yield (word, sorted(docIds))\n",
        "\n",
        "output = MapReduce(RECORDREADER, MAP, REDUCE)\n",
        "output = list(output)\n",
        "output"
      ]
    },
    {
      "cell_type": "markdown",
      "metadata": {
        "id": "R7az-6DA6qr2"
      },
      "source": [
        "## WordCount"
      ]
    },
    {
      "cell_type": "code",
      "execution_count": 17,
      "metadata": {
        "colab": {
          "base_uri": "https://localhost:8080/",
          "height": 34
        },
        "id": "dN-nbtgG6uYG",
        "outputId": "24117576-7931-401d-a581-28e246b23453"
      },
      "outputs": [
        {
          "data": {
            "text/plain": [
              "[('', 3), ('it', 9), ('is', 9), ('what', 5), ('a', 1), ('banana', 1)]"
            ]
          },
          "execution_count": 17,
          "metadata": {},
          "output_type": "execute_result"
        }
      ],
      "source": [
        "from typing import Iterator\n",
        "\n",
        "d1 = \"\"\"\n",
        "it is what it is\n",
        "it is what it is\n",
        "it is what it is\"\"\"\n",
        "d2 = \"\"\"\n",
        "what is it\n",
        "what is it\"\"\"\n",
        "d3 = \"\"\"\n",
        "it is a banana\"\"\"\n",
        "documents = [d1, d2, d3]\n",
        "\n",
        "def RECORDREADER():\n",
        "  for (docid, document) in enumerate(documents):\n",
        "    for (lineid, line) in enumerate(document.split('\\n')):\n",
        "      yield (\"{}:{}\".format(docid,lineid), line)\n",
        "\n",
        "def MAP(docId:str, line:str):\n",
        "  for word in line.split(\" \"):  \n",
        "    yield (word, 1)\n",
        " \n",
        "def REDUCE(word:str, counts:Iterator[int]):\n",
        "  sum = 0\n",
        "  for c in counts:\n",
        "    sum += c\n",
        "  yield (word, sum)\n",
        "\n",
        "output = MapReduce(RECORDREADER, MAP, REDUCE)\n",
        "output = list(output)\n",
        "output"
      ]
    },
    {
      "cell_type": "markdown",
      "metadata": {
        "id": "h-jRAcYCAkkk"
      },
      "source": [
        "# MapReduce Distributed\n",
        "\n",
        "Добавляется в модель фабрика RECORDREARER-ов --- INPUTFORMAT, функция распределения промежуточных результатов по партициям PARTITIONER, и функция COMBINER для частичной аггрегации промежуточных результатов до распределения по новым партициям."
      ]
    },
    {
      "cell_type": "code",
      "execution_count": 18,
      "metadata": {
        "id": "nw-b-xJsApgW"
      },
      "outputs": [],
      "source": [
        "def flatten(nested_iterable):\n",
        "  for iterable in nested_iterable:\n",
        "    for element in iterable:\n",
        "      yield element\n",
        "\n",
        "def groupbykey(iterable):\n",
        "  t = {}\n",
        "  for (k2, v2) in iterable:\n",
        "    t[k2] = t.get(k2, []) + [v2]\n",
        "  return t.items()\n",
        "      \n",
        "def groupbykey_distributed(map_partitions, PARTITIONER):\n",
        "  global reducers\n",
        "  partitions = [dict() for _ in range(reducers)]\n",
        "  for map_partition in map_partitions:\n",
        "    for (k2, v2) in map_partition:\n",
        "      p = partitions[PARTITIONER(k2)]\n",
        "      p[k2] = p.get(k2, []) + [v2]\n",
        "  return [(partition_id, sorted(partition.items(), key=lambda x: x[0])) for (partition_id, partition) in enumerate(partitions)]\n",
        " \n",
        "def PARTITIONER(obj):\n",
        "  global reducers\n",
        "  return hash(obj) % reducers\n",
        "  \n",
        "def MapReduceDistributed(INPUTFORMAT, MAP, REDUCE, PARTITIONER=PARTITIONER, COMBINER=None):\n",
        "  map_partitions = map(lambda record_reader: flatten(map(lambda k1v1: MAP(*k1v1), record_reader)), INPUTFORMAT())\n",
        "  if COMBINER != None:\n",
        "    map_partitions = map(lambda map_partition: flatten(map(lambda k2v2: COMBINER(*k2v2), groupbykey(map_partition))), map_partitions)\n",
        "  reduce_partitions = groupbykey_distributed(map_partitions, PARTITIONER) # shuffle\n",
        "  reduce_outputs = map(lambda reduce_partition: (reduce_partition[0], flatten(map(lambda reduce_input_group: REDUCE(*reduce_input_group), reduce_partition[1]))), reduce_partitions)\n",
        "  \n",
        "  print(\"{} key-value pairs were sent over a network.\".format(sum([len(vs) for (k,vs) in flatten([partition for (partition_id, partition) in reduce_partitions])])))\n",
        "  return reduce_outputs"
      ]
    },
    {
      "cell_type": "markdown",
      "metadata": {
        "id": "kxirlf3XqZxY"
      },
      "source": [
        "## Спецификация MapReduce Distributed\n",
        "\n",
        "\n",
        "```\n",
        "f (k1, v1) -> (k2,v2)*\n",
        "g (k2, v2*) -> (k3,v3)*\n",
        " \n",
        "e1 (k1, v1)\n",
        "e2 (k2, v2)\n",
        "partition1 (k2, v2)*\n",
        "partition2 (k2, v2*)*\n",
        " \n",
        "flatmap (e1->e2*, e1*) -> partition1*\n",
        "groupby (partition1*) -> partition2*\n",
        "\n",
        "mapreduce ((k1,v1)*) -> (k3,v3)*\n",
        "mapreduce .flatmap(f).groupby(k2).flatmap(g)\n",
        "```\n",
        "\n"
      ]
    },
    {
      "cell_type": "markdown",
      "metadata": {
        "id": "CWYw_CpbbY3C"
      },
      "source": [
        "## WordCount "
      ]
    },
    {
      "cell_type": "code",
      "execution_count": 19,
      "metadata": {
        "colab": {
          "base_uri": "https://localhost:8080/",
          "height": 68
        },
        "id": "uR_zfGFkMZlp",
        "outputId": "c8d46167-473d-43b9-881a-2396991b3731"
      },
      "outputs": [
        {
          "name": "stdout",
          "output_type": "stream",
          "text": [
            "56 key-value pairs were sent over a network.\n"
          ]
        },
        {
          "data": {
            "text/plain": [
              "[(0, [('', 6), ('a', 2), ('banana', 2), ('it', 18), ('what', 10)]),\n",
              " (1, [('is', 18)])]"
            ]
          },
          "execution_count": 19,
          "metadata": {},
          "output_type": "execute_result"
        }
      ],
      "source": [
        "from typing import Iterator\n",
        "import numpy as np\n",
        "\n",
        "d1 = \"\"\"\n",
        "it is what it is\n",
        "it is what it is\n",
        "it is what it is\"\"\"\n",
        "d2 = \"\"\"\n",
        "what is it\n",
        "what is it\"\"\"\n",
        "d3 = \"\"\"\n",
        "it is a banana\"\"\"\n",
        "documents = [d1, d2, d3, d1, d2, d3]\n",
        "\n",
        "maps = 3\n",
        "reducers = 2\n",
        "\n",
        "def INPUTFORMAT():\n",
        "  global maps\n",
        "  \n",
        "  def RECORDREADER(split):\n",
        "    for (docid, document) in enumerate(split):\n",
        "      for (lineid, line) in enumerate(document.split('\\n')):\n",
        "        yield (\"{}:{}\".format(docid,lineid), line)\n",
        "      \n",
        "  split_size =  int(np.ceil(len(documents)/maps))\n",
        "  for i in range(0, len(documents), split_size):\n",
        "    yield RECORDREADER(documents[i:i+split_size])\n",
        "\n",
        "def MAP(docId:str, line:str):\n",
        "  for word in line.split(\" \"):  \n",
        "    yield (word, 1)\n",
        " \n",
        "def REDUCE(word:str, counts:Iterator[int]):\n",
        "  sum = 0\n",
        "  for c in counts:\n",
        "    sum += c\n",
        "  yield (word, sum)\n",
        "  \n",
        "# try to set COMBINER=REDUCER and look at the number of values sent over the network \n",
        "partitioned_output = MapReduceDistributed(INPUTFORMAT, MAP, REDUCE, COMBINER=None) \n",
        "partitioned_output = [(partition_id, list(partition)) for (partition_id, partition) in partitioned_output]\n",
        "partitioned_output"
      ]
    },
    {
      "cell_type": "markdown",
      "metadata": {
        "id": "gCJGx8IQ87xS"
      },
      "source": [
        "## TeraSort"
      ]
    },
    {
      "cell_type": "code",
      "execution_count": 20,
      "metadata": {
        "colab": {
          "base_uri": "https://localhost:8080/",
          "height": 578
        },
        "id": "P2v8v1v_8_YR",
        "outputId": "e0987c25-9757-46cb-8e55-d5d2adfbee2b"
      },
      "outputs": [
        {
          "name": "stdout",
          "output_type": "stream",
          "text": [
            "30 key-value pairs were sent over a network.\n"
          ]
        },
        {
          "data": {
            "text/plain": [
              "[(0,\n",
              "  [(None, 0.007035932437115644),\n",
              "   (None, 0.05044462822255513),\n",
              "   (None, 0.0761069163900927),\n",
              "   (None, 0.12503003933406664),\n",
              "   (None, 0.15754390857749156),\n",
              "   (None, 0.20460535998217766),\n",
              "   (None, 0.26449113085939135),\n",
              "   (None, 0.2822903263193798),\n",
              "   (None, 0.29598256130751455),\n",
              "   (None, 0.31222413925470105),\n",
              "   (None, 0.32904970840254655),\n",
              "   (None, 0.33057893856771725),\n",
              "   (None, 0.42869047212415234),\n",
              "   (None, 0.43069210371069877)]),\n",
              " (1,\n",
              "  [(None, 0.544597192752006),\n",
              "   (None, 0.5826193297616951),\n",
              "   (None, 0.5984408049163263),\n",
              "   (None, 0.6033263353879544),\n",
              "   (None, 0.6095278140938067),\n",
              "   (None, 0.627460195498983),\n",
              "   (None, 0.6915586458480801),\n",
              "   (None, 0.7278064874205156),\n",
              "   (None, 0.730193662828503),\n",
              "   (None, 0.8034067567518253),\n",
              "   (None, 0.8711925576896182),\n",
              "   (None, 0.8839887002256163),\n",
              "   (None, 0.8911652107891863),\n",
              "   (None, 0.9380676723995685),\n",
              "   (None, 0.9499817619723798),\n",
              "   (None, 0.9969785160891388)])]"
            ]
          },
          "execution_count": 20,
          "metadata": {},
          "output_type": "execute_result"
        }
      ],
      "source": [
        "import numpy as np\n",
        "\n",
        "input_values = np.random.rand(30)\n",
        "maps = 3\n",
        "reducers = 2\n",
        "min_value = 0.0\n",
        "max_value = 1.0\n",
        "\n",
        "def INPUTFORMAT():\n",
        "  global maps\n",
        "  \n",
        "  def RECORDREADER(split):\n",
        "    for value in split:\n",
        "        yield (value, None)\n",
        "      \n",
        "  split_size =  int(np.ceil(len(input_values)/maps))\n",
        "  for i in range(0, len(input_values), split_size):\n",
        "    yield RECORDREADER(input_values[i:i+split_size])\n",
        "    \n",
        "def MAP(value:int, _):\n",
        "  yield (value, None)\n",
        "  \n",
        "def PARTITIONER(key):\n",
        "  global reducers\n",
        "  global max_value\n",
        "  global min_value\n",
        "  bucket_size = (max_value-min_value)/reducers\n",
        "  bucket_id = 0\n",
        "  while((key>(bucket_id+1)*bucket_size) and ((bucket_id+1)*bucket_size<max_value)):\n",
        "    bucket_id += 1\n",
        "  return bucket_id\n",
        "\n",
        "def REDUCE(value:int, _):\n",
        "  yield (None,value)\n",
        "  \n",
        "partitioned_output = MapReduceDistributed(INPUTFORMAT, MAP, REDUCE, COMBINER=None, PARTITIONER=PARTITIONER)\n",
        "partitioned_output = [(partition_id, list(partition)) for (partition_id, partition) in partitioned_output]\n",
        "partitioned_output"
      ]
    },
    {
      "cell_type": "markdown",
      "metadata": {
        "id": "Iy65YJTH99iT"
      },
      "source": [
        "# Упражнения\n",
        "Упражнения взяты из Rajaraman A., Ullman J. D. Mining of massive datasets. – Cambridge University Press, 2011.\n",
        "\n",
        "\n",
        "Для выполнения заданий переопределите функции RECORDREADER, MAP, REDUCE. Для модели распределённой системы может потребоваться переопределение функций PARTITION и COMBINER."
      ]
    },
    {
      "cell_type": "markdown",
      "metadata": {
        "id": "cfvAeZm3S8S8"
      },
      "source": [
        "### Максимальное значение ряда\n",
        "\n",
        "Разработайте MapReduce алгоритм, который находит максимальное число входного списка чисел."
      ]
    },
    {
      "cell_type": "code",
      "execution_count": 21,
      "metadata": {
        "id": "3GRA1JR-Tkbg"
      },
      "outputs": [
        {
          "name": "stdout",
          "output_type": "stream",
          "text": [
            "[81, 82, 86, 40, 18, 5, 10, 58, 28, 78, 76, 37, 29, 53, 0, 48, 51, 32, 41, 35, 11, 87, 17, 48, 86, 89, 58, 14, 27, 44, 91, 13, 16, 99, 2, 98, 5, 28, 62, 100, 99, 33, 72, 61, 91, 33, 34, 96, 48, 21, 99, 69, 54, 87, 77, 88, 91, 0, 1, 75, 31, 9, 67, 7, 39, 63, 85, 8, 63, 17, 41, 98, 75, 96, 70, 27, 81, 52, 81, 16, 55, 6, 91, 16, 92, 24, 85, 62, 50, 14, 96, 54, 63, 23, 37, 2, 2, 59, 15, 47] \n",
            "\n",
            "[[81, 82, 86, 40, 18], [5, 10, 58, 28, 78], [76, 37, 29, 53, 0], [48, 51, 32, 41, 35], [11, 87, 17, 48, 86], [89, 58, 14, 27, 44], [91, 13, 16, 99, 2], [98, 5, 28, 62, 100], [99, 33, 72, 61, 91], [33, 34, 96, 48, 21], [99, 69, 54, 87, 77], [88, 91, 0, 1, 75], [31, 9, 67, 7, 39], [63, 85, 8, 63, 17], [41, 98, 75, 96, 70], [27, 81, 52, 81, 16], [55, 6, 91, 16, 92], [24, 85, 62, 50, 14], [96, 54, 63, 23, 37], [2, 2, 59, 15, 47]] \n",
            "\n",
            "100\n"
          ]
        }
      ],
      "source": [
        "# Импорт модуля random для генерации случайных чисел\n",
        "import random\n",
        "\n",
        "# Функция MAP, которая принимает список (chunk) и возвращает максимальное значение из него\n",
        "def MAP(chunk):\n",
        "    return max(chunk)\n",
        "\n",
        "# Функция REDUCE, которая принимает список результатов (results) и возвращает максимальное значение из них\n",
        "def REDUCE(results):\n",
        "    return max(results)\n",
        "\n",
        "# Функция RECORDREADER, которая создает список случайных чисел заданного размера (count)\n",
        "# Каждое число в диапазоне от 0 до 100\n",
        "def RECORDREADER(count):\n",
        "    return [random.randint(0, 100) for i in range(count)]\n",
        "\n",
        "# Генерация записей с помощью функции RECORDREADER и их вывод\n",
        "record = RECORDREADER(100)\n",
        "print(record,'\\n')\n",
        "\n",
        "# Разделение записей на части (партиции) с количеством частей, равным part_count\n",
        "# Каждая часть содержит part_count записей\n",
        "record_partitional = [record[d:d + part_count] for d in range(0, len(record), part_count)]\n",
        "print(record_partitional,'\\n')\n",
        "\n",
        "# Применение функции MAP к каждой части записей, получение списка результатов и применение функции REDUCE к этому списку\n",
        "# Вывод результата - максимального значения из всех максимальных значений частей записей\n",
        "print(REDUCE(list(map(lambda x: MAP(x), record_partitional))))"
      ]
    },
    {
      "cell_type": "markdown",
      "metadata": {
        "id": "k86bXnqZTk-U"
      },
      "source": [
        "### Арифметическое среднее\n",
        "\n",
        "Разработайте MapReduce алгоритм, который находит арифметическое среднее.\n",
        "\n",
        "$$\\overline{X} = \\frac{1}{n}\\sum_{i=0}^{n} x_i$$\n"
      ]
    },
    {
      "cell_type": "code",
      "execution_count": 22,
      "metadata": {
        "id": "MPoY5pkfUNZf"
      },
      "outputs": [
        {
          "name": "stdout",
          "output_type": "stream",
          "text": [
            "[(1, 88), (1, 71), (1, 88), (1, 69), (1, 44), (1, 42), (1, 85), (1, 2), (1, 36), (1, 25), (1, 80), (1, 22), (1, 74), (1, 8), (1, 79), (1, 82), (1, 30), (1, 58), (1, 23), (1, 74), (1, 76), (1, 74), (1, 79), (1, 62), (1, 71), (1, 53), (1, 73), (1, 38), (1, 48), (1, 3), (1, 42), (1, 41), (1, 100), (1, 23), (1, 54), (1, 39), (1, 85), (1, 37), (1, 65), (1, 7), (1, 6), (1, 61), (1, 7), (1, 37), (1, 100), (1, 8), (1, 14), (1, 1), (1, 7), (1, 69), (1, 23), (1, 58), (1, 2), (1, 11), (1, 16), (1, 85), (1, 12), (1, 1), (1, 82), (1, 63), (1, 38), (1, 66), (1, 62), (1, 95), (1, 39), (1, 52), (1, 78), (1, 60), (1, 14), (1, 26), (1, 70), (1, 59), (1, 11), (1, 90), (1, 91), (1, 17), (1, 13), (1, 15), (1, 73), (1, 94), (1, 76), (1, 56), (1, 100), (1, 38), (1, 66), (1, 67), (1, 35), (1, 8), (1, 99), (1, 60), (1, 3), (1, 7), (1, 87), (1, 59), (1, 14), (1, 22), (1, 100), (1, 99), (1, 33), (1, 84)]\n",
            "[(1, [88, 71, 88, 69, 44, 42, 85, 2, 36, 25, 80, 22, 74, 8, 79, 82, 30, 58, 23, 74, 76, 74, 79, 62, 71, 53, 73, 38, 48, 3, 42, 41, 100, 23, 54, 39, 85, 37, 65, 7, 6, 61, 7, 37, 100, 8, 14, 1, 7, 69, 23, 58, 2, 11, 16, 85, 12, 1, 82, 63, 38, 66, 62, 95, 39, 52, 78, 60, 14, 26, 70, 59, 11, 90, 91, 17, 13, 15, 73, 94, 76, 56, 100, 38, 66, 67, 35, 8, 99, 60, 3, 7, 87, 59, 14, 22, 100, 99, 33, 84])]\n",
            "[49.89]\n"
          ]
        }
      ],
      "source": [
        "# Импорт класса Pool из модуля multiprocessing для параллельного выполнения задач\n",
        "from multiprocessing import Pool\n",
        "\n",
        "# Функция MAP, которая принимает часть данных (chunk) и возвращает кортеж с ключом 1 и значением chunk\n",
        "def MAP(chunk):\n",
        "    return (1, chunk)\n",
        "\n",
        "# Функция REDUCE, которая принимает ключ и итератор с числами, а затем вычисляет среднее значение чисел\n",
        "# Результат вычислений возвращается в виде генератора\n",
        "def REDUCE(key, nums):\n",
        "    sum = 0\n",
        "    count = 0\n",
        "    for n in nums:\n",
        "        sum += n\n",
        "        count += 1\n",
        "    yield sum / count\n",
        "\n",
        "# Функция RECORDREADER, которая создает список случайных чисел заданного размера (count)\n",
        "# Каждое число находится в диапазоне от 0 до 100\n",
        "def RECORDREADER(count):\n",
        "    return [random.randint(0, 100) for i in range(count)]\n",
        "\n",
        "# Применение функции MAP к списку записей, созданному с помощью функции RECORDREADER\n",
        "map_output = list(map(lambda x: MAP(x), RECORDREADER(100)))\n",
        "print(map_output)\n",
        "\n",
        "# Группировка результатов функции MAP по ключу\n",
        "# Результат сохраняется в виде списка кортежей, каждый кортеж содержит ключ и список значений\n",
        "shuffle_output = groupbykey(map_output)\n",
        "shuffle_output = list(shuffle_output)\n",
        "print(shuffle_output)\n",
        "\n",
        "# Применение функции REDUCE к результатам группировки\n",
        "# Результатом является список, содержащий средние значения для каждой группы значений\n",
        "reduce_output = list(flatten(map(lambda x: REDUCE(*x), shuffle_output)))\n",
        "print(reduce_output)"
      ]
    },
    {
      "cell_type": "markdown",
      "metadata": {
        "id": "xanzszhsIlLe"
      },
      "source": [
        "### GroupByKey на основе сортировки\n",
        "\n",
        "Реализуйте groupByKey на основе сортировки, проверьте его работу на примерах"
      ]
    },
    {
      "cell_type": "code",
      "execution_count": 23,
      "metadata": {
        "id": "hQPn3USsIkEC"
      },
      "outputs": [
        {
          "name": "stdout",
          "output_type": "stream",
          "text": [
            "[(1, 1), (1, 83), (1, 13), (1, 58), (1, 30), (1, 31), (1, 3), (1, 32), (1, 51), (1, 72), (1, 18), (1, 83), (1, 11), (1, 60), (1, 13), (1, 70), (1, 57), (1, 8), (1, 89), (1, 22), (1, 16), (1, 87), (1, 46), (1, 38), (1, 35), (1, 63), (1, 30), (1, 43), (1, 80), (1, 27), (1, 92), (1, 32), (1, 13), (1, 8), (1, 60), (1, 18), (1, 39), (1, 67), (1, 36), (1, 52), (1, 92), (1, 66), (1, 31), (1, 13), (1, 69), (1, 58), (1, 55), (1, 52), (1, 90), (1, 11), (1, 36), (1, 16), (1, 81), (1, 64), (1, 54), (1, 68), (1, 72), (1, 87), (1, 13), (1, 9), (1, 93), (1, 82), (1, 83), (1, 16), (1, 64), (1, 0), (1, 39), (1, 64), (1, 73), (1, 56), (1, 61), (1, 54), (1, 50), (1, 46), (1, 42), (1, 28), (1, 35), (1, 32), (1, 63), (1, 77), (1, 40), (1, 75), (1, 42), (1, 37), (1, 3), (1, 43), (1, 94), (1, 62), (1, 97), (1, 83), (1, 43), (1, 58), (1, 11), (1, 93), (1, 60), (1, 83), (1, 62), (1, 78), (1, 30), (1, 4)]\n",
            "[(1, [1, 83, 13, 58, 30, 31, 3, 32, 51, 72, 18, 83, 11, 60, 13, 70, 57, 8, 89, 22, 16, 87, 46, 38, 35, 63, 30, 43, 80, 27, 92, 32, 13, 8, 60, 18, 39, 67, 36, 52, 92, 66, 31, 13, 69, 58, 55, 52, 90, 11, 36, 16, 81, 64, 54, 68, 72, 87, 13, 9, 93, 82, 83, 16, 64, 0, 39, 64, 73, 56, 61, 54, 50, 46, 42, 28, 35, 32, 63, 77, 40, 75, 42, 37, 3, 43, 94, 62, 97, 83, 43, 58, 11, 93, 60, 83, 62, 78, 30, 4])]\n",
            "[48.8]\n"
          ]
        }
      ],
      "source": [
        "# Функция group_by_key принимает итерируемый объект и группирует его элементы по ключу\n",
        "def group_by_key(iterable):\n",
        "    # Сортируем данные по ключу\n",
        "    sorted_data = sorted(iterable, key=lambda x: x[0])\n",
        "    # Создаем словарь для хранения сгруппированных данных\n",
        "    grouped_data = {}\n",
        "    # Проходимся по отсортированным данным и добавляем их в словарь\n",
        "    for key, value in sorted_data:\n",
        "        if key not in grouped_data:\n",
        "            grouped_data[key] = [value]\n",
        "        else:\n",
        "            grouped_data[key].append(value)\n",
        "    # Преобразуем словарь в список кортежей и возвращаем результат\n",
        "    result = []\n",
        "    for key, value in grouped_data.items():\n",
        "        result.append((key, value))\n",
        "    return result\n",
        "\n",
        "# Функция MAP принимает число и возвращает кортеж с фиксированным ключом (1) и переданным числом\n",
        "def MAP(num):\n",
        "    return (1, num)\n",
        "\n",
        "# Функция REDUCE вычисляет среднее значение чисел в итераторе\n",
        "def REDUCE(key, nums: Iterator[NamedTuple]):\n",
        "    sum = 0\n",
        "    count = 0\n",
        "    for n in nums:\n",
        "        sum += n\n",
        "        count += 1\n",
        "    # Генерируем среднее значение и возвращаем его как генератор\n",
        "    yield sum / count\n",
        "\n",
        "# Функция RECORDREADER генерирует список случайных чисел заданного размера\n",
        "def RECORDREADER(count):\n",
        "    return [random.randint(0, 100) for i in range(count)]\n",
        "\n",
        "# Генерация записей с помощью функции RECORDREADER и их обработка с использованием функций MAP, group_by_key и REDUCE\n",
        "map_output = list(map(lambda x: MAP(x), RECORDREADER(100)))\n",
        "print(map_output)\n",
        "\n",
        "shuffle_output = group_by_key(map_output)\n",
        "shuffle_output = list(shuffle_output)\n",
        "print(shuffle_output)\n",
        "\n",
        "reduce_output = list(flatten(map(lambda x: REDUCE(*x), shuffle_output)))\n",
        "print(reduce_output)\n",
        "     "
      ]
    },
    {
      "cell_type": "markdown",
      "metadata": {
        "id": "5SgEjCZyGnu6"
      },
      "source": [
        "### Drop duplicates (set construction, unique elements, distinct)\n",
        "\n",
        "Реализуйте распределённую операцию исключения дубликатов"
      ]
    },
    {
      "cell_type": "code",
      "execution_count": 24,
      "metadata": {
        "id": "okjbyApjGhMt"
      },
      "outputs": [
        {
          "name": "stdout",
          "output_type": "stream",
          "text": [
            "7 key-value pairs were sent over a network.\n"
          ]
        },
        {
          "data": {
            "text/plain": [
              "[(0,\n",
              "  [User(id=0, age=54, social_contacts=20, gender='male'),\n",
              "   User(id=2, age=16, social_contacts=123, gender='male')]),\n",
              " (1,\n",
              "  [User(id=1, age=27, social_contacts=642, gender='male'),\n",
              "   User(id=3, age=31, social_contacts=521, gender='male')])]"
            ]
          },
          "execution_count": 24,
          "metadata": {},
          "output_type": "execute_result"
        }
      ],
      "source": [
        "# Создание списка пользователей с различными атрибутами, такими как возраст, пол и количество социальных контактов\n",
        "input_collection = [\n",
        "    User(id=0, age=54, gender=\"male\", social_contacts=20),\n",
        "    User(id=0, age=25, gender=\"female\", social_contacts=240),\n",
        "    User(id=1, age=27, gender=\"male\", social_contacts=642),\n",
        "    User(id=2, age=16, gender=\"male\", social_contacts=123),\n",
        "    User(id=2, age=35, gender=\"female\", social_contacts=247),\n",
        "    User(id=3, age=31, gender=\"male\", social_contacts=521),\n",
        "    User(id=3, age=32, gender=\"female\", social_contacts=753),\n",
        "]\n",
        "\n",
        "# Функция, которая разглаживает вложенные итерируемые объекты\n",
        "def flatten(nested_iterable):\n",
        "    for iterable in nested_iterable:\n",
        "        for element in iterable:\n",
        "            yield element\n",
        "\n",
        "# Функция, которая группирует элементы по ключу\n",
        "def groupbykey(iterable):\n",
        "    t = {}\n",
        "    for k2, v2 in iterable:\n",
        "        t[k2] = t.get(k2, []) + [v2]\n",
        "    return t.items()\n",
        "\n",
        "# Функция, которая выполняет группировку данных с использованием нескольких редукторов\n",
        "def groupbykey_distributed(map_partitions, PARTITIONER):\n",
        "    global reducers\n",
        "    partitions = [dict() for _ in range(reducers)]\n",
        "    for map_partition in map_partitions:\n",
        "        for k2, v2 in map_partition:\n",
        "            p = partitions[PARTITIONER(k2)]\n",
        "            p[k2] = p.get(k2, []) + [v2]\n",
        "    return [\n",
        "        (partition_id, sorted(partition.items(), key=lambda x: x[0]))\n",
        "        for (partition_id, partition) in enumerate(partitions)\n",
        "    ]\n",
        "\n",
        "# Функция, которая определяет, какой редуктор будет обрабатывать данные, основываясь на хэше ключа\n",
        "def PARTITIONER(obj):\n",
        "    global reducers\n",
        "    return hash(obj) % reducers\n",
        "\n",
        "# Функция, которая запускает процесс MapReduce, принимая на вход INPUTFORMAT, MAP, REDUCE, PARTITIONER и COMBINER\n",
        "def MapReduceDistributed(\n",
        "    INPUTFORMAT, MAP, REDUCE, PARTITIONER=PARTITIONER, COMBINER=None\n",
        "):\n",
        "    map_partitions = map(\n",
        "        lambda record_reader: flatten(map(lambda k1v1: MAP(*k1v1), record_reader)),\n",
        "        INPUTFORMAT(),\n",
        "    )\n",
        "    if COMBINER != None:\n",
        "        map_partitions = map(\n",
        "            lambda map_partition: flatten(\n",
        "                map(lambda k2v2: COMBINER(*k2v2), groupbykey(map_partition))\n",
        "            ),\n",
        "            map_partitions,\n",
        "        )\n",
        "    reduce_partitions = groupbykey_distributed(map_partitions, PARTITIONER)  # shuffle\n",
        "    reduce_outputs = map(\n",
        "        lambda reduce_partition: (\n",
        "            reduce_partition[0],\n",
        "            flatten(\n",
        "                map(\n",
        "                    lambda reduce_input_group: REDUCE(*reduce_input_group),\n",
        "                    reduce_partition[1],\n",
        "                )\n",
        "            ),\n",
        "        ),\n",
        "        reduce_partitions,\n",
        "    )\n",
        "\n",
        "    print(\n",
        "        \"{} key-value pairs were sent over a network.\".format(\n",
        "            sum(\n",
        "                [\n",
        "                    len(vs)\n",
        "                    for (k, vs) in flatten(\n",
        "                        [partition for (partition_id, partition) in reduce_partitions]\n",
        "                    )\n",
        "                ]\n",
        "            )\n",
        "        )\n",
        "    )\n",
        "    return reduce_outputs\n",
        "\n",
        "maps = 3\n",
        "reducers = 2\n",
        "\n",
        "# Функция, которая разделяет входные данные между вычислительными узлами\n",
        "def INPUTFORMAT():\n",
        "    global maps\n",
        "\n",
        "    def RECORDREADER(split):\n",
        "        for userindex, user in enumerate(split):\n",
        "            yield (userindex, user)\n",
        "\n",
        "    # Разделение массива пользователей между вычислительными узлами\n",
        "    split_size = int(np.ceil(len(input_collection) / maps))\n",
        "    for i in range(0, len(input_collection), split_size):\n",
        "        yield RECORDREADER(input_collection[i : i + split_size])\n",
        "\n",
        "\n",
        "# Функция, которая принимает запись пользователя и создает пары ключ-значение, где ключом является id пользователя\n",
        "def MAP_UNIQUE(_, user: str):\n",
        "    yield (user.id, user)\n",
        "\n",
        "\n",
        "# Функция, которая принимает группу пользователей с одинаковым id и возвращает только первого пользователя из группы\n",
        "def REDUCE_UNIQUE(user_id: int, users: Iterator[int]):\n",
        "    yield users[0]\n",
        "\n",
        "\n",
        "# try to set COMBINER=REDUCER and look at the number of values sent over the network\n",
        "partitioned_output = MapReduceDistributed(\n",
        "    INPUTFORMAT, MAP_UNIQUE, REDUCE_UNIQUE, COMBINER=None\n",
        ")\n",
        "partitioned_output = [\n",
        "    (partition_id, list(partition)) for (partition_id, partition) in partitioned_output\n",
        "]\n",
        "partitioned_output"
      ]
    },
    {
      "cell_type": "markdown",
      "metadata": {
        "id": "e7sRGoTXuJze"
      },
      "source": [
        "#Операторы реляционной алгебры\n",
        "### Selection (Выборка)\n",
        "\n",
        "**The Map Function**: Для  каждого кортежа $t \\in R$ вычисляется истинность предиката $C$. В случае истины создаётся пара ключ-значение $(t, t)$. В паре ключ и значение одинаковы, равны $t$.\n",
        "\n",
        "**The Reduce Function:** Роль функции Reduce выполняет функция идентичности, которая возвращает то же значение, что получила на вход.\n",
        "\n"
      ]
    },
    {
      "cell_type": "code",
      "execution_count": 25,
      "metadata": {
        "id": "4nKIKe59uIfc"
      },
      "outputs": [
        {
          "name": "stdout",
          "output_type": "stream",
          "text": [
            "[(36, 1, 8), (29, 46, 81), (91, 6, 41), (83, 39, 84), (76, 14, 93), (43, 6, 12), (17, 96, 89), (41, 87, 57), (15, 91, 100), (45, 38, 90), (96, 39, 36), (31, 27, 66), (38, 22, 82), (35, 35, 62), (60, 21, 57), (3, 11, 52), (20, 95, 22), (78, 99, 49), (71, 0, 44), (55, 32, 4), (97, 10, 100), (51, 20, 42), (16, 23, 86), (3, 18, 50), (19, 74, 95), (11, 52, 11), (100, 34, 61), (13, 43, 28), (32, 67, 0), (46, 100, 92), (88, 5, 25), (6, 78, 93), (97, 65, 64), (24, 60, 57), (59, 79, 54), (73, 66, 54), (38, 70, 98), (95, 75, 21), (42, 67, 28), (38, 4, 48), (61, 35, 36), (48, 36, 68), (96, 77, 96), (5, 28, 46), (4, 72, 65), (80, 13, 66), (59, 32, 28), (87, 90, 78), (89, 53, 14), (92, 15, 74), (92, 27, 77), (21, 80, 93), (4, 16, 12), (89, 35, 6), (21, 54, 58), (45, 24, 24), (23, 32, 59), (25, 84, 88), (13, 81, 70), (12, 76, 70), (15, 85, 10), (1, 62, 64), (6, 79, 75), (33, 39, 25), (7, 2, 12), (26, 69, 22), (53, 10, 33), (64, 48, 44), (34, 16, 47), (94, 15, 71), (44, 45, 14), (59, 51, 79), (78, 0, 14), (70, 14, 68), (11, 93, 100), (65, 68, 46), (1, 74, 93), (80, 94, 55), (42, 22, 5), (75, 26, 74), (35, 24, 62), (10, 65, 66), (17, 16, 91), (57, 86, 36), (29, 73, 8), (5, 47, 12), (0, 53, 91), (25, 98, 94), (17, 87, 75), (46, 14, 50), (15, 82, 16), (87, 88, 55), (15, 16, 8), (29, 68, 70), (44, 18, 77), (4, 81, 27), (79, 15, 15), (44, 99, 25), (76, 58, 69), (33, 70, 28)]\n",
            "[[(36, 1, 8), (29, 46, 81), (91, 6, 41), (83, 39, 84), (76, 14, 93)], [(43, 6, 12), (17, 96, 89), (41, 87, 57), (15, 91, 100), (45, 38, 90)], [(96, 39, 36), (31, 27, 66), (38, 22, 82), (35, 35, 62), (60, 21, 57)], [(3, 11, 52), (20, 95, 22), (78, 99, 49), (71, 0, 44), (55, 32, 4)], [(97, 10, 100), (51, 20, 42), (16, 23, 86), (3, 18, 50), (19, 74, 95)], [(11, 52, 11), (100, 34, 61), (13, 43, 28), (32, 67, 0), (46, 100, 92)], [(88, 5, 25), (6, 78, 93), (97, 65, 64), (24, 60, 57), (59, 79, 54)], [(73, 66, 54), (38, 70, 98), (95, 75, 21), (42, 67, 28), (38, 4, 48)], [(61, 35, 36), (48, 36, 68), (96, 77, 96), (5, 28, 46), (4, 72, 65)], [(80, 13, 66), (59, 32, 28), (87, 90, 78), (89, 53, 14), (92, 15, 74)], [(92, 27, 77), (21, 80, 93), (4, 16, 12), (89, 35, 6), (21, 54, 58)], [(45, 24, 24), (23, 32, 59), (25, 84, 88), (13, 81, 70), (12, 76, 70)], [(15, 85, 10), (1, 62, 64), (6, 79, 75), (33, 39, 25), (7, 2, 12)], [(26, 69, 22), (53, 10, 33), (64, 48, 44), (34, 16, 47), (94, 15, 71)], [(44, 45, 14), (59, 51, 79), (78, 0, 14), (70, 14, 68), (11, 93, 100)], [(65, 68, 46), (1, 74, 93), (80, 94, 55), (42, 22, 5), (75, 26, 74)], [(35, 24, 62), (10, 65, 66), (17, 16, 91), (57, 86, 36), (29, 73, 8)], [(5, 47, 12), (0, 53, 91), (25, 98, 94), (17, 87, 75), (46, 14, 50)], [(15, 82, 16), (87, 88, 55), (15, 16, 8), (29, 68, 70), (44, 18, 77)], [(4, 81, 27), (79, 15, 15), (44, 99, 25), (76, 58, 69), (33, 70, 28)]]\n",
            "[dict_items([((36, 1, 8), [(36, 1, 8)]), ((76, 14, 93), [(76, 14, 93)])]), dict_items([]), dict_items([((96, 39, 36), [(96, 39, 36)]), ((38, 22, 82), [(38, 22, 82)]), ((60, 21, 57), [(60, 21, 57)])]), dict_items([((20, 95, 22), [(20, 95, 22)]), ((78, 99, 49), [(78, 99, 49)])]), dict_items([((16, 23, 86), [(16, 23, 86)])]), dict_items([((100, 34, 61), [(100, 34, 61)]), ((32, 67, 0), [(32, 67, 0)]), ((46, 100, 92), [(46, 100, 92)])]), dict_items([((88, 5, 25), [(88, 5, 25)]), ((6, 78, 93), [(6, 78, 93)]), ((24, 60, 57), [(24, 60, 57)])]), dict_items([((38, 70, 98), [(38, 70, 98)]), ((42, 67, 28), [(42, 67, 28)]), ((38, 4, 48), [(38, 4, 48)])]), dict_items([((48, 36, 68), [(48, 36, 68)]), ((96, 77, 96), [(96, 77, 96)]), ((4, 72, 65), [(4, 72, 65)])]), dict_items([((80, 13, 66), [(80, 13, 66)]), ((92, 15, 74), [(92, 15, 74)])]), dict_items([((92, 27, 77), [(92, 27, 77)]), ((4, 16, 12), [(4, 16, 12)])]), dict_items([((12, 76, 70), [(12, 76, 70)])]), dict_items([((6, 79, 75), [(6, 79, 75)])]), dict_items([((26, 69, 22), [(26, 69, 22)]), ((64, 48, 44), [(64, 48, 44)]), ((34, 16, 47), [(34, 16, 47)]), ((94, 15, 71), [(94, 15, 71)])]), dict_items([((44, 45, 14), [(44, 45, 14)]), ((78, 0, 14), [(78, 0, 14)]), ((70, 14, 68), [(70, 14, 68)])]), dict_items([((80, 94, 55), [(80, 94, 55)]), ((42, 22, 5), [(42, 22, 5)])]), dict_items([((10, 65, 66), [(10, 65, 66)])]), dict_items([((0, 53, 91), [(0, 53, 91)]), ((46, 14, 50), [(46, 14, 50)])]), dict_items([((44, 18, 77), [(44, 18, 77)])]), dict_items([((4, 81, 27), [(4, 81, 27)]), ((44, 99, 25), [(44, 99, 25)]), ((76, 58, 69), [(76, 58, 69)])])]\n",
            "[(36, 1, 8), (76, 14, 93), (96, 39, 36), (38, 22, 82), (60, 21, 57), (20, 95, 22), (78, 99, 49), (16, 23, 86), (100, 34, 61), (32, 67, 0), (46, 100, 92), (88, 5, 25), (6, 78, 93), (24, 60, 57), (38, 70, 98), (42, 67, 28), (38, 4, 48), (48, 36, 68), (96, 77, 96), (4, 72, 65), (80, 13, 66), (92, 15, 74), (92, 27, 77), (4, 16, 12), (12, 76, 70), (6, 79, 75), (26, 69, 22), (64, 48, 44), (34, 16, 47), (94, 15, 71), (44, 45, 14), (78, 0, 14), (70, 14, 68), (80, 94, 55), (42, 22, 5), (10, 65, 66), (0, 53, 91), (46, 14, 50), (44, 18, 77), (4, 81, 27), (44, 99, 25), (76, 58, 69)]\n"
          ]
        }
      ],
      "source": [
        "from collections import defaultdict  # Импортируем необходимый модуль defaultdict из collections\n",
        "\n",
        "def MAP(el_list):\n",
        "    mapped_result = defaultdict(list)  # Создаем defaultdict для хранения отображенных значений\n",
        "    for t in el_list:\n",
        "        if C(t):  # Если условие C(t) истинно для элемента t\n",
        "            mapped_result[t].append(t)  # Добавляем элемент t в список, связанный с ключом t\n",
        "    return mapped_result.items()  # Возвращаем отображенный результат в виде списка кортежей\n",
        "\n",
        "def REDUCE(mapped_items):\n",
        "    reduced_result = []\n",
        "    print(mapped_items)  # Выводим отображенные элементы для отладки\n",
        "    for values in mapped_items:\n",
        "        for value in values:  # Перебираем каждый элемент в значениях\n",
        "            reduced_result.append(value[0])  # Добавляем первый элемент кортежа в редуцированный результат\n",
        "    return reduced_result\n",
        "\n",
        "def C(t):\n",
        "    return t[0] % 2 == 0  # Возвращаем True, если первый элемент кортежа t четный\n",
        "\n",
        "# Генерируем список кортежей, каждый из которых содержит три случайных числа от 0 до 100\n",
        "def RECORDREADER(count):\n",
        "    return [(random.randint(0, 100), random.randint(0, 100), random.randint(0, 100)) for i in range(count)]\n",
        "\n",
        "record = RECORDREADER(100)  # Создаем список из 100 случайных записей\n",
        "print(record)  # Выводим список записей\n",
        "\n",
        "# Разбиваем список записей на подсписки длиной part_count\n",
        "part_count = 5\n",
        "record_partitional = [record[d:d + part_count] for d in range(0, len(record), part_count)]\n",
        "\n",
        "print(record_partitional)  # Выводим разбиение записей на подсписки\n",
        "\n",
        "# Применяем MAP к каждому подсписку и затем редуцируем результаты\n",
        "print(REDUCE(list(map(lambda x: MAP(x), record_partitional))))"
      ]
    },
    {
      "cell_type": "markdown",
      "metadata": {
        "id": "w27Ca-_Ku85V"
      },
      "source": [
        "### Projection (Проекция)\n",
        "\n",
        "Проекция на множество атрибутов $S$.\n",
        "\n",
        "**The Map Function:** Для каждого кортежа $t \\in R$ создайте кортеж $t′$, исключая  из $t$ те значения, атрибуты которых не принадлежат  $S$. Верните пару $(t′, t′)$.\n",
        "\n",
        "**The Reduce Function:** Для каждого ключа $t′$, созданного любой Map задачей, вы получаете одну или несколько пар $(t′, t′)$. Reduce функция преобразует $(t′, [t′, t′, . . . , t′])$ в $(t′, t′)$, так, что для ключа $t′$ возвращается одна пара  $(t′, t′)$."
      ]
    },
    {
      "cell_type": "code",
      "execution_count": 26,
      "metadata": {
        "id": "BEvuY4GqvhS6"
      },
      "outputs": [
        {
          "name": "stdout",
          "output_type": "stream",
          "text": [
            "[(79, 59, 25), (44, 6, 37), (8, 18, 96), (53, 0, 95), (81, 55, 84), (41, 56, 26), (43, 68, 75), (82, 74, 23), (35, 93, 55), (89, 38, 25), (85, 82, 72), (63, 47, 7), (59, 96, 75), (100, 70, 16), (85, 67, 6), (96, 36, 98), (30, 54, 87), (50, 48, 81), (48, 58, 66), (64, 61, 28), (0, 93, 53), (55, 33, 0), (40, 94, 2), (33, 43, 22), (90, 57, 30), (28, 29, 81), (90, 100, 57), (59, 41, 59), (74, 68, 32), (13, 72, 17), (75, 89, 32), (17, 97, 25), (29, 92, 52), (28, 84, 4), (49, 24, 83), (41, 84, 81), (66, 90, 21), (56, 4, 21), (18, 73, 28), (38, 63, 1), (27, 50, 81), (11, 36, 24), (70, 96, 49), (20, 70, 29), (59, 91, 22), (93, 50, 69), (48, 61, 68), (37, 43, 42), (8, 97, 94), (4, 69, 72), (89, 52, 62), (3, 6, 24), (49, 37, 73), (76, 46, 77), (80, 54, 67), (65, 72, 36), (73, 34, 92), (28, 36, 66), (45, 48, 31), (24, 65, 52), (62, 21, 69), (7, 74, 51), (61, 7, 80), (48, 75, 16), (70, 68, 25), (79, 90, 93), (60, 94, 18), (21, 30, 87), (8, 19, 28), (92, 77, 32), (33, 2, 16), (4, 17, 96), (87, 21, 73), (72, 20, 100), (78, 38, 7), (29, 71, 20), (94, 94, 96), (83, 13, 16), (44, 81, 73), (46, 54, 10), (99, 16, 47), (79, 47, 77), (99, 15, 42), (64, 36, 65), (44, 65, 29), (70, 9, 51), (54, 45, 16), (26, 60, 38), (81, 42, 38), (16, 98, 65), (21, 46, 72), (95, 72, 7), (29, 63, 63), (46, 37, 18), (46, 48, 65), (70, 30, 85), (72, 29, 53), (3, 86, 41), (79, 98, 90), (10, 76, 55)]\n",
            "[((), ()), ((), ()), ((), ()), ((56,), (56,)), ((1,), (1,)), ((56,), (56,)), ((), ()), ((), ()), ((), ()), ((), ()), ((), ()), ((), ()), ((), ()), ((56,), (56,)), ((), ()), ((), ()), ((), ()), ((), ()), ((), ()), ((), ()), ((), ()), ((), ()), ((), ()), ((), ()), ((), ()), ((), ()), ((), ()), ((), ()), ((), ()), ((), ()), ((), ()), ((1,), (1,)), ((56,), (56,)), ((12,), (12,)), ((), ()), ((), ()), ((), ()), ((), ()), ((), ()), ((), ()), ((), ()), ((), ()), ((), ()), ((), ()), ((), ()), ((), ()), ((), ()), ((), ()), ((), ()), ((), ()), ((), ()), ((), ()), ((), ()), ((), ()), ((), ()), ((), ()), ((), ()), ((), ()), ((), ()), ((), ()), ((), ()), ((), ()), ((), ()), ((), ()), ((), ()), ((), ()), ((), ()), ((), ()), ((), ()), ((1,), (1,)), ((), ()), ((), ()), ((), ()), ((), ()), ((), ()), ((), ()), ((), ()), ((), ()), ((), ()), ((), ()), ((), ()), ((), ()), ((), ()), ((), ()), ((), ()), ((), ()), ((), ()), ((), ()), ((), ()), ((), ()), ((), ()), ((), ()), ((), ()), ((), ()), ((12,), (12,)), ((), ()), ((), ()), ((), ()), ((), ()), ((), ())]\n",
            "[((), [(), (), (), (), (), (), (), (), (), (), (), (), (), (), (), (), (), (), (), (), (), (), (), (), (), (), (), (), (), (), (), (), (), (), (), (), (), (), (), (), (), (), (), (), (), (), (), (), (), (), (), (), (), (), (), (), (), (), (), (), (), (), (), (), (), (), (), (), (), (), (), (), (), (), (), (), (), (), (), (), (), (), (), (), (), (), (), (), (), (), ()]), ((56,), [(56,), (56,), (56,), (56,)]), ((1,), [(1,), (1,), (1,)]), ((12,), [(12,), (12,)])]\n",
            "[(), (56,), (1,), (12,)]\n"
          ]
        }
      ],
      "source": [
        "S = set([1, 12, 56])  # Определяем множество S\n",
        "\n",
        "def MAP(t):\n",
        "    res_list = []\n",
        "    for el in t:  # Перебираем элементы входного кортежа t\n",
        "        if el in S:  # Если элемент есть в множестве S\n",
        "            res_list.append(el)  # Добавляем его в список res_list\n",
        "    res = tuple(res_list)  # Преобразуем список в кортеж\n",
        "    return (res, res)  # Возвращаем кортеж из двух элементов, где оба одинаковы\n",
        "\n",
        "def REDUCE(key, values):\n",
        "    return (key, key)  # Возвращаем ключ\n",
        "\n",
        "# Генерируем список кортежей, каждый из которых содержит три случайных числа от 0 до 100\n",
        "def RECORDREADER(count):\n",
        "    return [(random.randint(0, 100), random.randint(0, 100), random.randint(0, 100)) for i in range(count)]\n",
        "\n",
        "def group_by_key(iterable):\n",
        "    t = {}\n",
        "    for (k2, v2) in iterable:  # Перебираем ключи и значения во входном итерируемом объекте\n",
        "        t[k2] = t.get(k2, []) + [v2]  # Добавляем значение v2 в список, связанный с ключом k2 в словаре t\n",
        "    return t.items()  # Возвращаем элементы словаря как список кортежей\n",
        "\n",
        "record = RECORDREADER(100)  # Создаем список из 100 случайных записей\n",
        "print(record)  # Выводим список записей\n",
        "\n",
        "map_output = list(map(lambda x: MAP(x), RECORDREADER(100)))  # Применяем MAP к каждой записи и сохраняем результат\n",
        "print(map_output)  # Выводим результаты отображения\n",
        "\n",
        "shuffle_output = group_by_key(map_output)  # Группируем результаты отображения по ключу\n",
        "shuffle_output = list(shuffle_output)  # Преобразуем результат группировки в список\n",
        "print(shuffle_output)  # Выводим результат группировки\n",
        "\n",
        "reduce_output = list(map(lambda x: REDUCE(*x)[0], shuffle_output))  # Применяем REDUCE к результату группировки\n",
        "print(reduce_output)  # Выводим редуцированный результат\n",
        "     "
      ]
    },
    {
      "cell_type": "markdown",
      "metadata": {
        "id": "7gau6lKXvn2R"
      },
      "source": [
        "### Union (Объединение)\n",
        "\n",
        "**The Map Function:** Превратите каждый входной кортеж $t$ в пару ключ-значение $(t, t)$.\n",
        "\n",
        "**The Reduce Function:** С каждым ключом $t$ будет ассоциировано одно или два значений. В обоих случаях создайте $(t, t)$ в качестве выходного значения."
      ]
    },
    {
      "cell_type": "code",
      "execution_count": 27,
      "metadata": {
        "id": "Sns7a5agv3nw"
      },
      "outputs": [
        {
          "name": "stdout",
          "output_type": "stream",
          "text": [
            "[(70, 65, 91), (17, 39, 10), (92, 26, 39), (54, 1, 37), (40, 24, 13), (22, 23, 65), (58, 86, 71), (75, 5, 41), (52, 13, 21), (60, 99, 33), (74, 33, 57), (26, 6, 40), (48, 5, 97), (62, 35, 83), (99, 98, 50), (42, 25, 22), (66, 0, 13), (48, 44, 8), (71, 98, 75), (59, 42, 63), (29, 58, 82), (77, 24, 3), (1, 98, 8), (8, 38, 2), (29, 32, 13), (31, 22, 98), (43, 14, 41), (54, 85, 63), (92, 26, 40), (86, 11, 27), (35, 54, 80), (69, 4, 11), (3, 4, 89), (6, 22, 75), (81, 47, 1), (67, 22, 61), (14, 94, 47), (36, 12, 63), (20, 42, 93), (6, 100, 12), (39, 84, 7), (44, 74, 68), (86, 74, 2), (23, 27, 6), (32, 1, 39), (79, 21, 53), (75, 62, 6), (36, 55, 46), (12, 7, 77), (45, 31, 54), (12, 58, 72), (36, 48, 7), (42, 3, 53), (25, 3, 40), (42, 90, 89), (28, 44, 50), (60, 88, 9), (4, 10, 58), (56, 37, 47), (2, 65, 80), (40, 50, 0), (32, 82, 54), (44, 67, 72), (35, 61, 6), (83, 89, 86), (15, 44, 9), (86, 14, 55), (44, 69, 64), (64, 74, 61), (33, 50, 42), (92, 30, 94), (47, 9, 75), (45, 44, 8), (96, 55, 2), (46, 37, 36), (43, 16, 68), (41, 87, 68), (74, 52, 52), (28, 87, 74), (65, 48, 61), (76, 32, 39), (55, 25, 16), (17, 49, 41), (53, 5, 83), (55, 52, 88), (76, 36, 16), (12, 93, 49), (78, 82, 18), (23, 73, 19), (60, 59, 14), (19, 43, 96), (93, 61, 5), (57, 50, 88), (90, 63, 96), (55, 35, 7), (46, 64, 49), (40, 96, 91), (73, 45, 85), (42, 88, 23), (71, 35, 74)]\n",
            "[((40, 89, 74), (40, 89, 74)), ((24, 36, 56), (24, 36, 56)), ((26, 93, 20), (26, 93, 20)), ((25, 71, 46), (25, 71, 46)), ((20, 84, 3), (20, 84, 3)), ((84, 17, 82), (84, 17, 82)), ((57, 60, 32), (57, 60, 32)), ((3, 34, 50), (3, 34, 50)), ((25, 50, 21), (25, 50, 21)), ((47, 62, 55), (47, 62, 55)), ((32, 70, 3), (32, 70, 3)), ((87, 12, 10), (87, 12, 10)), ((80, 77, 68), (80, 77, 68)), ((92, 82, 26), (92, 82, 26)), ((48, 17, 66), (48, 17, 66)), ((30, 30, 21), (30, 30, 21)), ((91, 100, 99), (91, 100, 99)), ((62, 20, 12), (62, 20, 12)), ((8, 69, 65), (8, 69, 65)), ((9, 23, 39), (9, 23, 39)), ((79, 66, 29), (79, 66, 29)), ((45, 73, 12), (45, 73, 12)), ((6, 35, 100), (6, 35, 100)), ((4, 55, 44), (4, 55, 44)), ((20, 58, 29), (20, 58, 29)), ((58, 72, 77), (58, 72, 77)), ((97, 40, 35), (97, 40, 35)), ((20, 15, 66), (20, 15, 66)), ((12, 87, 85), (12, 87, 85)), ((78, 31, 31), (78, 31, 31)), ((90, 8, 58), (90, 8, 58)), ((93, 63, 7), (93, 63, 7)), ((94, 24, 36), (94, 24, 36)), ((23, 79, 50), (23, 79, 50)), ((95, 99, 93), (95, 99, 93)), ((13, 31, 54), (13, 31, 54)), ((95, 8, 77), (95, 8, 77)), ((40, 65, 92), (40, 65, 92)), ((53, 27, 38), (53, 27, 38)), ((20, 56, 41), (20, 56, 41)), ((78, 92, 62), (78, 92, 62)), ((45, 47, 16), (45, 47, 16)), ((68, 26, 86), (68, 26, 86)), ((58, 13, 80), (58, 13, 80)), ((33, 74, 45), (33, 74, 45)), ((97, 25, 83), (97, 25, 83)), ((40, 52, 77), (40, 52, 77)), ((82, 68, 33), (82, 68, 33)), ((51, 68, 52), (51, 68, 52)), ((12, 51, 13), (12, 51, 13)), ((94, 20, 27), (94, 20, 27)), ((5, 67, 44), (5, 67, 44)), ((10, 19, 46), (10, 19, 46)), ((94, 92, 46), (94, 92, 46)), ((100, 33, 3), (100, 33, 3)), ((59, 14, 93), (59, 14, 93)), ((96, 96, 35), (96, 96, 35)), ((28, 86, 70), (28, 86, 70)), ((54, 89, 25), (54, 89, 25)), ((9, 9, 23), (9, 9, 23)), ((59, 35, 65), (59, 35, 65)), ((41, 20, 71), (41, 20, 71)), ((34, 45, 38), (34, 45, 38)), ((80, 5, 48), (80, 5, 48)), ((28, 60, 63), (28, 60, 63)), ((95, 36, 85), (95, 36, 85)), ((62, 86, 79), (62, 86, 79)), ((61, 24, 85), (61, 24, 85)), ((20, 57, 38), (20, 57, 38)), ((42, 46, 60), (42, 46, 60)), ((94, 37, 35), (94, 37, 35)), ((33, 33, 7), (33, 33, 7)), ((57, 75, 65), (57, 75, 65)), ((2, 48, 77), (2, 48, 77)), ((72, 20, 74), (72, 20, 74)), ((28, 98, 89), (28, 98, 89)), ((80, 14, 99), (80, 14, 99)), ((25, 31, 98), (25, 31, 98)), ((56, 7, 82), (56, 7, 82)), ((46, 23, 52), (46, 23, 52)), ((43, 88, 73), (43, 88, 73)), ((89, 42, 12), (89, 42, 12)), ((16, 26, 15), (16, 26, 15)), ((74, 19, 28), (74, 19, 28)), ((36, 84, 28), (36, 84, 28)), ((59, 81, 98), (59, 81, 98)), ((4, 28, 63), (4, 28, 63)), ((14, 70, 73), (14, 70, 73)), ((38, 7, 28), (38, 7, 28)), ((58, 96, 64), (58, 96, 64)), ((91, 96, 47), (91, 96, 47)), ((63, 27, 8), (63, 27, 8)), ((91, 89, 88), (91, 89, 88)), ((18, 45, 82), (18, 45, 82)), ((4, 15, 21), (4, 15, 21)), ((96, 40, 68), (96, 40, 68)), ((77, 80, 1), (77, 80, 1)), ((16, 62, 48), (16, 62, 48)), ((67, 33, 75), (67, 33, 75)), ((48, 37, 30), (48, 37, 30))]\n",
            "[((40, 89, 74), [(40, 89, 74)]), ((24, 36, 56), [(24, 36, 56)]), ((26, 93, 20), [(26, 93, 20)]), ((25, 71, 46), [(25, 71, 46)]), ((20, 84, 3), [(20, 84, 3)]), ((84, 17, 82), [(84, 17, 82)]), ((57, 60, 32), [(57, 60, 32)]), ((3, 34, 50), [(3, 34, 50)]), ((25, 50, 21), [(25, 50, 21)]), ((47, 62, 55), [(47, 62, 55)]), ((32, 70, 3), [(32, 70, 3)]), ((87, 12, 10), [(87, 12, 10)]), ((80, 77, 68), [(80, 77, 68)]), ((92, 82, 26), [(92, 82, 26)]), ((48, 17, 66), [(48, 17, 66)]), ((30, 30, 21), [(30, 30, 21)]), ((91, 100, 99), [(91, 100, 99)]), ((62, 20, 12), [(62, 20, 12)]), ((8, 69, 65), [(8, 69, 65)]), ((9, 23, 39), [(9, 23, 39)]), ((79, 66, 29), [(79, 66, 29)]), ((45, 73, 12), [(45, 73, 12)]), ((6, 35, 100), [(6, 35, 100)]), ((4, 55, 44), [(4, 55, 44)]), ((20, 58, 29), [(20, 58, 29)]), ((58, 72, 77), [(58, 72, 77)]), ((97, 40, 35), [(97, 40, 35)]), ((20, 15, 66), [(20, 15, 66)]), ((12, 87, 85), [(12, 87, 85)]), ((78, 31, 31), [(78, 31, 31)]), ((90, 8, 58), [(90, 8, 58)]), ((93, 63, 7), [(93, 63, 7)]), ((94, 24, 36), [(94, 24, 36)]), ((23, 79, 50), [(23, 79, 50)]), ((95, 99, 93), [(95, 99, 93)]), ((13, 31, 54), [(13, 31, 54)]), ((95, 8, 77), [(95, 8, 77)]), ((40, 65, 92), [(40, 65, 92)]), ((53, 27, 38), [(53, 27, 38)]), ((20, 56, 41), [(20, 56, 41)]), ((78, 92, 62), [(78, 92, 62)]), ((45, 47, 16), [(45, 47, 16)]), ((68, 26, 86), [(68, 26, 86)]), ((58, 13, 80), [(58, 13, 80)]), ((33, 74, 45), [(33, 74, 45)]), ((97, 25, 83), [(97, 25, 83)]), ((40, 52, 77), [(40, 52, 77)]), ((82, 68, 33), [(82, 68, 33)]), ((51, 68, 52), [(51, 68, 52)]), ((12, 51, 13), [(12, 51, 13)]), ((94, 20, 27), [(94, 20, 27)]), ((5, 67, 44), [(5, 67, 44)]), ((10, 19, 46), [(10, 19, 46)]), ((94, 92, 46), [(94, 92, 46)]), ((100, 33, 3), [(100, 33, 3)]), ((59, 14, 93), [(59, 14, 93)]), ((96, 96, 35), [(96, 96, 35)]), ((28, 86, 70), [(28, 86, 70)]), ((54, 89, 25), [(54, 89, 25)]), ((9, 9, 23), [(9, 9, 23)]), ((59, 35, 65), [(59, 35, 65)]), ((41, 20, 71), [(41, 20, 71)]), ((34, 45, 38), [(34, 45, 38)]), ((80, 5, 48), [(80, 5, 48)]), ((28, 60, 63), [(28, 60, 63)]), ((95, 36, 85), [(95, 36, 85)]), ((62, 86, 79), [(62, 86, 79)]), ((61, 24, 85), [(61, 24, 85)]), ((20, 57, 38), [(20, 57, 38)]), ((42, 46, 60), [(42, 46, 60)]), ((94, 37, 35), [(94, 37, 35)]), ((33, 33, 7), [(33, 33, 7)]), ((57, 75, 65), [(57, 75, 65)]), ((2, 48, 77), [(2, 48, 77)]), ((72, 20, 74), [(72, 20, 74)]), ((28, 98, 89), [(28, 98, 89)]), ((80, 14, 99), [(80, 14, 99)]), ((25, 31, 98), [(25, 31, 98)]), ((56, 7, 82), [(56, 7, 82)]), ((46, 23, 52), [(46, 23, 52)]), ((43, 88, 73), [(43, 88, 73)]), ((89, 42, 12), [(89, 42, 12)]), ((16, 26, 15), [(16, 26, 15)]), ((74, 19, 28), [(74, 19, 28)]), ((36, 84, 28), [(36, 84, 28)]), ((59, 81, 98), [(59, 81, 98)]), ((4, 28, 63), [(4, 28, 63)]), ((14, 70, 73), [(14, 70, 73)]), ((38, 7, 28), [(38, 7, 28)]), ((58, 96, 64), [(58, 96, 64)]), ((91, 96, 47), [(91, 96, 47)]), ((63, 27, 8), [(63, 27, 8)]), ((91, 89, 88), [(91, 89, 88)]), ((18, 45, 82), [(18, 45, 82)]), ((4, 15, 21), [(4, 15, 21)]), ((96, 40, 68), [(96, 40, 68)]), ((77, 80, 1), [(77, 80, 1)]), ((16, 62, 48), [(16, 62, 48)]), ((67, 33, 75), [(67, 33, 75)]), ((48, 37, 30), [(48, 37, 30)])]\n",
            "[(40, 89, 74), (24, 36, 56), (26, 93, 20), (25, 71, 46), (20, 84, 3), (84, 17, 82), (57, 60, 32), (3, 34, 50), (25, 50, 21), (47, 62, 55), (32, 70, 3), (87, 12, 10), (80, 77, 68), (92, 82, 26), (48, 17, 66), (30, 30, 21), (91, 100, 99), (62, 20, 12), (8, 69, 65), (9, 23, 39), (79, 66, 29), (45, 73, 12), (6, 35, 100), (4, 55, 44), (20, 58, 29), (58, 72, 77), (97, 40, 35), (20, 15, 66), (12, 87, 85), (78, 31, 31), (90, 8, 58), (93, 63, 7), (94, 24, 36), (23, 79, 50), (95, 99, 93), (13, 31, 54), (95, 8, 77), (40, 65, 92), (53, 27, 38), (20, 56, 41), (78, 92, 62), (45, 47, 16), (68, 26, 86), (58, 13, 80), (33, 74, 45), (97, 25, 83), (40, 52, 77), (82, 68, 33), (51, 68, 52), (12, 51, 13), (94, 20, 27), (5, 67, 44), (10, 19, 46), (94, 92, 46), (100, 33, 3), (59, 14, 93), (96, 96, 35), (28, 86, 70), (54, 89, 25), (9, 9, 23), (59, 35, 65), (41, 20, 71), (34, 45, 38), (80, 5, 48), (28, 60, 63), (95, 36, 85), (62, 86, 79), (61, 24, 85), (20, 57, 38), (42, 46, 60), (94, 37, 35), (33, 33, 7), (57, 75, 65), (2, 48, 77), (72, 20, 74), (28, 98, 89), (80, 14, 99), (25, 31, 98), (56, 7, 82), (46, 23, 52), (43, 88, 73), (89, 42, 12), (16, 26, 15), (74, 19, 28), (36, 84, 28), (59, 81, 98), (4, 28, 63), (14, 70, 73), (38, 7, 28), (58, 96, 64), (91, 96, 47), (63, 27, 8), (91, 89, 88), (18, 45, 82), (4, 15, 21), (96, 40, 68), (77, 80, 1), (16, 62, 48), (67, 33, 75), (48, 37, 30)]\n"
          ]
        }
      ],
      "source": [
        "def MAP(t):\n",
        "    return (t, t)  # Возвращаем входное значение в форме кортежа (t, t)\n",
        "\n",
        "def REDUCE(key, values: Iterator[NamedTuple]):\n",
        "    return (key, key)  # Возвращаем ключ\n",
        "\n",
        "# Генерируем список кортежей, каждый из которых содержит три случайных числа от 0 до 100\n",
        "def RECORDREADER(count):\n",
        "    return [(random.randint(0, 100), random.randint(0, 100), random.randint(0, 100)) for i in range(count)]\n",
        "\n",
        "def group_by_key(iterable):\n",
        "    t = {}  # Создаем пустой словарь\n",
        "    for (k2, v2) in iterable:  # Перебираем ключи и значения во входном итерируемом объекте\n",
        "        t[k2] = t.get(k2, []) + [v2]  # Добавляем значение v2 в список, связанный с ключом k2 в словаре t\n",
        "    return t.items()  # Возвращаем элементы словаря как список кортежей\n",
        "\n",
        "record = RECORDREADER(100)  # Создаем список из 100 случайных записей\n",
        "print(record)  # Выводим список записей\n",
        "\n",
        "map_output = list(map(lambda x: MAP(x), RECORDREADER(100)))  # Применяем MAP к каждой записи и сохраняем результат\n",
        "print(map_output)  # Выводим результаты отображения\n",
        "\n",
        "shuffle_output = group_by_key(map_output)  # Группируем результаты отображения по ключу\n",
        "shuffle_output = list(shuffle_output)  # Преобразуем результат группировки в список\n",
        "print(shuffle_output)  # Выводим результат группировки\n",
        "\n",
        "reduce_output = list(map(lambda x: REDUCE(*x)[0], shuffle_output))  # Применяем REDUCE к результату группировки\n",
        "print(reduce_output)  # Выводим редуцированный результат"
      ]
    },
    {
      "cell_type": "markdown",
      "metadata": {
        "id": "dQ8TuEbjv4J8"
      },
      "source": [
        "### Intersection (Пересечение)\n",
        "\n",
        "**The Map Function:** Превратите каждый кортеж $t$ в пары ключ-значение $(t, t)$.\n",
        "\n",
        "**The Reduce Function:** Если для ключа $t$ есть список из двух элементов $[t, t]$ $-$ создайте пару $(t, t)$. Иначе, ничего не создавайте."
      ]
    },
    {
      "cell_type": "code",
      "execution_count": 28,
      "metadata": {
        "id": "XKlBZh4IwERR"
      },
      "outputs": [
        {
          "name": "stdout",
          "output_type": "stream",
          "text": [
            "[(0, 0), (3, 0), (1, 1), (0, 3), (0, 2), (2, 2), (2, 0), (1, 1), (0, 3), (1, 1), (1, 1), (1, 2), (0, 1), (2, 1), (0, 1), (1, 1), (3, 1), (3, 1), (1, 0), (0, 2), (2, 2), (0, 2), (1, 1), (0, 0), (0, 0), (1, 3), (2, 0), (3, 2), (2, 0), (2, 0), (0, 2), (2, 3), (0, 0), (0, 2), (2, 1), (0, 3), (0, 3), (3, 3), (0, 3), (2, 2), (0, 3), (2, 0), (2, 2), (0, 2), (2, 2), (2, 3), (0, 1), (3, 0), (2, 1), (2, 0), (2, 3), (3, 2), (1, 0), (3, 3), (0, 0), (1, 0), (0, 1), (1, 3), (2, 3), (2, 0), (3, 2), (0, 1), (3, 2), (1, 1), (0, 3), (0, 2), (0, 0), (2, 3), (0, 2), (0, 0), (1, 1), (0, 1), (3, 1), (3, 3), (0, 2), (0, 0), (2, 0), (2, 1), (1, 2), (2, 3), (3, 3), (2, 0), (2, 3), (2, 2), (1, 0), (2, 2), (3, 0), (3, 2), (0, 2), (2, 2), (1, 0), (2, 0), (1, 3), (2, 3), (3, 1), (2, 2), (3, 1), (0, 3), (2, 0), (3, 0)]\n",
            "[((1, 3), (1, 3)), ((1, 2), (1, 2)), ((2, 3), (2, 3)), ((2, 1), (2, 1)), ((0, 0), (0, 0)), ((3, 2), (3, 2)), ((2, 2), (2, 2)), ((3, 3), (3, 3)), ((3, 2), (3, 2)), ((1, 1), (1, 1)), ((0, 1), (0, 1)), ((3, 0), (3, 0)), ((0, 2), (0, 2)), ((0, 3), (0, 3)), ((0, 2), (0, 2)), ((1, 3), (1, 3)), ((2, 2), (2, 2)), ((3, 1), (3, 1)), ((3, 3), (3, 3)), ((2, 0), (2, 0)), ((1, 0), (1, 0)), ((0, 3), (0, 3)), ((2, 0), (2, 0)), ((3, 3), (3, 3)), ((3, 0), (3, 0)), ((1, 1), (1, 1)), ((0, 2), (0, 2)), ((3, 2), (3, 2)), ((2, 2), (2, 2)), ((2, 3), (2, 3)), ((1, 0), (1, 0)), ((0, 0), (0, 0)), ((3, 0), (3, 0)), ((2, 2), (2, 2)), ((2, 2), (2, 2)), ((2, 1), (2, 1)), ((0, 3), (0, 3)), ((2, 1), (2, 1)), ((0, 0), (0, 0)), ((1, 0), (1, 0)), ((1, 2), (1, 2)), ((1, 0), (1, 0)), ((3, 0), (3, 0)), ((2, 0), (2, 0)), ((1, 1), (1, 1)), ((0, 3), (0, 3)), ((3, 1), (3, 1)), ((2, 2), (2, 2)), ((1, 0), (1, 0)), ((1, 0), (1, 0)), ((0, 0), (0, 0)), ((1, 0), (1, 0)), ((3, 0), (3, 0)), ((1, 0), (1, 0)), ((3, 3), (3, 3)), ((1, 1), (1, 1)), ((3, 2), (3, 2)), ((0, 0), (0, 0)), ((0, 2), (0, 2)), ((3, 2), (3, 2)), ((2, 2), (2, 2)), ((0, 2), (0, 2)), ((0, 2), (0, 2)), ((2, 3), (2, 3)), ((3, 3), (3, 3)), ((1, 2), (1, 2)), ((3, 0), (3, 0)), ((2, 2), (2, 2)), ((3, 0), (3, 0)), ((3, 2), (3, 2)), ((2, 1), (2, 1)), ((2, 0), (2, 0)), ((3, 1), (3, 1)), ((3, 1), (3, 1)), ((2, 2), (2, 2)), ((2, 0), (2, 0)), ((3, 0), (3, 0)), ((3, 2), (3, 2)), ((1, 2), (1, 2)), ((2, 3), (2, 3)), ((0, 2), (0, 2)), ((1, 3), (1, 3)), ((1, 2), (1, 2)), ((1, 0), (1, 0)), ((2, 1), (2, 1)), ((1, 2), (1, 2)), ((0, 1), (0, 1)), ((1, 1), (1, 1)), ((2, 2), (2, 2)), ((2, 0), (2, 0)), ((2, 0), (2, 0)), ((0, 0), (0, 0)), ((2, 3), (2, 3)), ((0, 0), (0, 0)), ((2, 0), (2, 0)), ((0, 1), (0, 1)), ((2, 3), (2, 3)), ((1, 1), (1, 1)), ((2, 3), (2, 3)), ((0, 3), (0, 3))]\n",
            "[((1, 3), [(1, 3), (1, 3), (1, 3)]), ((1, 2), [(1, 2), (1, 2), (1, 2), (1, 2), (1, 2), (1, 2)]), ((2, 3), [(2, 3), (2, 3), (2, 3), (2, 3), (2, 3), (2, 3), (2, 3)]), ((2, 1), [(2, 1), (2, 1), (2, 1), (2, 1), (2, 1)]), ((0, 0), [(0, 0), (0, 0), (0, 0), (0, 0), (0, 0), (0, 0), (0, 0)]), ((3, 2), [(3, 2), (3, 2), (3, 2), (3, 2), (3, 2), (3, 2), (3, 2)]), ((2, 2), [(2, 2), (2, 2), (2, 2), (2, 2), (2, 2), (2, 2), (2, 2), (2, 2), (2, 2), (2, 2)]), ((3, 3), [(3, 3), (3, 3), (3, 3), (3, 3), (3, 3)]), ((1, 1), [(1, 1), (1, 1), (1, 1), (1, 1), (1, 1), (1, 1)]), ((0, 1), [(0, 1), (0, 1), (0, 1)]), ((3, 0), [(3, 0), (3, 0), (3, 0), (3, 0), (3, 0), (3, 0), (3, 0), (3, 0)]), ((0, 2), [(0, 2), (0, 2), (0, 2), (0, 2), (0, 2), (0, 2), (0, 2)]), ((0, 3), [(0, 3), (0, 3), (0, 3), (0, 3), (0, 3)]), ((3, 1), [(3, 1), (3, 1), (3, 1), (3, 1)]), ((2, 0), [(2, 0), (2, 0), (2, 0), (2, 0), (2, 0), (2, 0), (2, 0), (2, 0)]), ((1, 0), [(1, 0), (1, 0), (1, 0), (1, 0), (1, 0), (1, 0), (1, 0), (1, 0), (1, 0)])]\n",
            "[]\n"
          ]
        }
      ],
      "source": [
        "def MAP(t):\n",
        "    return (t, t)  # Возвращаем входное значение в форме кортежа (t, t)\n",
        "\n",
        "def REDUCE(key, values: Iterator[NamedTuple]):\n",
        "    if len(values) == 2:  # Если количество значений равно 2\n",
        "        return (key, key)  # Возвращаем ключ\n",
        "    # если условие не выполняется, функция не возвращает ничего, что приводит к возвращению значения None\n",
        "\n",
        "# Генерируем список кортежей, каждый из которых содержит два случайных числа от 0 до 3\n",
        "def RECORDREADER(count):\n",
        "    return [(random.randint(0, 3), random.randint(0, 3)) for i in range(count)]\n",
        "\n",
        "def group_by_key(iterable):\n",
        "    t = {}  # Создаем пустой словарь\n",
        "    for (k2, v2) in iterable:  # Перебираем ключи и значения во входном итерируемом объекте\n",
        "        t[k2] = t.get(k2, []) + [v2]  # Добавляем значение v2 в список, связанный с ключом k2 в словаре t\n",
        "    return t.items()  # Возвращаем элементы словаря как список кортежей\n",
        "\n",
        "record = RECORDREADER(100)  # Создаем список из 100 случайных записей\n",
        "print(record)  # Выводим список записей\n",
        "\n",
        "map_output = list(map(lambda x: MAP(x), RECORDREADER(100)))  # Применяем MAP к каждой записи и сохраняем результат\n",
        "print(map_output)  # Выводим результаты отображения\n",
        "\n",
        "shuffle_output = group_by_key(map_output)  # Группируем результаты отображения по ключу\n",
        "shuffle_output = list(shuffle_output)  # Преобразуем результат группировки в список\n",
        "print(shuffle_output)  # Выводим результат группировки\n",
        "\n",
        "# Применяем REDUCE к результату группировки и сохраняем результат\n",
        "# Затем фильтруем результаты, исключая значения None, и оставляем только первый элемент каждого кортежа\n",
        "reduce_output = [el[0] for el in list(map(lambda x: REDUCE(*x), shuffle_output)) if el is not None]\n",
        "print(reduce_output)  # Выводим редуцированный результат"
      ]
    },
    {
      "cell_type": "markdown",
      "metadata": {
        "id": "AVOpqoY3wE5k"
      },
      "source": [
        "### Difference (Разница)\n",
        "\n",
        "**The Map Function:** Для кортежа $t \\in R$, создайте пару $(t, R)$, и для кортежа $t \\in S$, создайте пару $(t, S)$. Задумка заключается в том, чтобы значение пары было именем отношения $R$ or $S$, которому принадлежит кортеж (а лучше, единичный бит, по которому можно два отношения различить $R$ or $S$), а не весь набор атрибутов отношения.\n",
        "\n",
        "**The Reduce Function:** Для каждого ключа $t$, если соответствующее значение является списком $[R]$, создайте пару $(t, t)$. В иных случаях не предпринимайте действий."
      ]
    },
    {
      "cell_type": "code",
      "execution_count": 32,
      "metadata": {
        "id": "QE_AC09lwZIZ"
      },
      "outputs": [
        {
          "name": "stdout",
          "output_type": "stream",
          "text": [
            "[<__main__.Tuple object at 0x000001EB5C1E2F10>, <__main__.Tuple object at 0x000001EB5D205C70>, <__main__.Tuple object at 0x000001EB5D2054F0>, <__main__.Tuple object at 0x000001EB5C20A790>, <__main__.Tuple object at 0x000001EB5C20A760>, <__main__.Tuple object at 0x000001EB5D245EE0>, <__main__.Tuple object at 0x000001EB5D2450D0>, <__main__.Tuple object at 0x000001EB5D245100>, <__main__.Tuple object at 0x000001EB5D2456D0>, <__main__.Tuple object at 0x000001EB5D245790>, <__main__.Tuple object at 0x000001EB5D2457F0>, <__main__.Tuple object at 0x000001EB5D245850>, <__main__.Tuple object at 0x000001EB5D2458B0>, <__main__.Tuple object at 0x000001EB5D245400>, <__main__.Tuple object at 0x000001EB5D245FA0>, <__main__.Tuple object at 0x000001EB5D245130>, <__main__.Tuple object at 0x000001EB5D245F70>, <__main__.Tuple object at 0x000001EB5D245DF0>, <__main__.Tuple object at 0x000001EB5D245E80>, <__main__.Tuple object at 0x000001EB5D245550>, <__main__.Tuple object at 0x000001EB5D245310>, <__main__.Tuple object at 0x000001EB5D245DC0>, <__main__.Tuple object at 0x000001EB5D245460>, <__main__.Tuple object at 0x000001EB5D2450A0>, <__main__.Tuple object at 0x000001EB5D2452B0>, <__main__.Tuple object at 0x000001EB4DE43CD0>, <__main__.Tuple object at 0x000001EB4DE43AC0>, <__main__.Tuple object at 0x000001EB4DE43D90>, <__main__.Tuple object at 0x000001EB4DE43AF0>, <__main__.Tuple object at 0x000001EB4DE43580>, <__main__.Tuple object at 0x000001EB4DE43640>, <__main__.Tuple object at 0x000001EB4DE43A60>, <__main__.Tuple object at 0x000001EB4DE433D0>, <__main__.Tuple object at 0x000001EB4DE43280>, <__main__.Tuple object at 0x000001EB4DE43760>, <__main__.Tuple object at 0x000001EB4DE433A0>, <__main__.Tuple object at 0x000001EB4DE43250>, <__main__.Tuple object at 0x000001EB4DE43340>, <__main__.Tuple object at 0x000001EB4DE432E0>, <__main__.Tuple object at 0x000001EB4DE43490>, <__main__.Tuple object at 0x000001EB4DE43B20>, <__main__.Tuple object at 0x000001EB4DE43190>, <__main__.Tuple object at 0x000001EB4DE43DC0>, <__main__.Tuple object at 0x000001EB5D1FEEE0>, <__main__.Tuple object at 0x000001EB5D1FE610>, <__main__.Tuple object at 0x000001EB5D1FE4C0>, <__main__.Tuple object at 0x000001EB5D1FE400>, <__main__.Tuple object at 0x000001EB5D1FE100>, <__main__.Tuple object at 0x000001EB5D1FE1F0>, <__main__.Tuple object at 0x000001EB5D1FE5B0>, <__main__.Tuple object at 0x000001EB5D1FE8B0>, <__main__.Tuple object at 0x000001EB5D1FE340>, <__main__.Tuple object at 0x000001EB5D1FE310>, <__main__.Tuple object at 0x000001EB5D1FE940>, <__main__.Tuple object at 0x000001EB5D1FE910>, <__main__.Tuple object at 0x000001EB5D1FEA90>, <__main__.Tuple object at 0x000001EB5D1FEB50>, <__main__.Tuple object at 0x000001EB5D1FE250>, <__main__.Tuple object at 0x000001EB5D1FEA60>, <__main__.Tuple object at 0x000001EB5D1FE160>, <__main__.Tuple object at 0x000001EB5D1FE3D0>, <__main__.Tuple object at 0x000001EB5D1FE3A0>, <__main__.Tuple object at 0x000001EB5D1FE9D0>, <__main__.Tuple object at 0x000001EB5D1FE460>, <__main__.Tuple object at 0x000001EB5D1FE2B0>, <__main__.Tuple object at 0x000001EB5D1FE6A0>, <__main__.Tuple object at 0x000001EB5D1FEF10>, <__main__.Tuple object at 0x000001EB5D1FE580>, <__main__.Tuple object at 0x000001EB5D1FEBB0>, <__main__.Tuple object at 0x000001EB5D1FEA00>, <__main__.Tuple object at 0x000001EB5D1FE0D0>, <__main__.Tuple object at 0x000001EB5D1FE220>, <__main__.Tuple object at 0x000001EB5C19D670>, <__main__.Tuple object at 0x000001EB5D1F6910>, <__main__.Tuple object at 0x000001EB5D1F6E80>, <__main__.Tuple object at 0x000001EB5D1F6970>, <__main__.Tuple object at 0x000001EB5D1F6700>, <__main__.Tuple object at 0x000001EB5D1F6FD0>, <__main__.Tuple object at 0x000001EB5D1F6880>, <__main__.Tuple object at 0x000001EB5D1F6640>, <__main__.Tuple object at 0x000001EB5D1F67F0>, <__main__.Tuple object at 0x000001EB5D1F68B0>, <__main__.Tuple object at 0x000001EB5D1F69A0>, <__main__.Tuple object at 0x000001EB5D1F67C0>, <__main__.Tuple object at 0x000001EB5D1F65B0>, <__main__.Tuple object at 0x000001EB5D1F6A00>, <__main__.Tuple object at 0x000001EB5D231070>, <__main__.Tuple object at 0x000001EB5D2310D0>, <__main__.Tuple object at 0x000001EB5D231130>, <__main__.Tuple object at 0x000001EB5D231190>, <__main__.Tuple object at 0x000001EB5D2311F0>, <__main__.Tuple object at 0x000001EB5D231250>, <__main__.Tuple object at 0x000001EB5D2312B0>, <__main__.Tuple object at 0x000001EB5D231310>, <__main__.Tuple object at 0x000001EB5D231370>, <__main__.Tuple object at 0x000001EB5D2313D0>, <__main__.Tuple object at 0x000001EB5D231430>, <__main__.Tuple object at 0x000001EB5D231490>, <__main__.Tuple object at 0x000001EB5D2314F0>, <__main__.Tuple object at 0x000001EB5D231550>]\n",
            "[(((1, 0), (2, 0), (1, 0)), 1), (((2, 1), (3, 2), (1, 3)), 1), (((1, 3), (0, 3), (0, 2)), 2), (((0, 3), (0, 2), (3, 0)), 2), (((0, 1), (2, 2), (0, 1)), 2), (((3, 0), (0, 3), (0, 0)), 1), (((3, 3), (2, 2), (3, 3)), 1), (((2, 1), (3, 2), (2, 2)), 1), (((1, 0), (1, 1), (3, 3)), 2), (((0, 3), (0, 3), (2, 1)), 2), (((0, 3), (1, 3), (3, 0)), 1), (((2, 0), (0, 3), (0, 0)), 1), (((3, 2), (1, 1), (0, 2)), 2), (((1, 2), (2, 0), (0, 1)), 1), (((2, 2), (3, 2), (3, 3)), 2), (((3, 1), (1, 1), (3, 0)), 1), (((2, 1), (3, 3), (2, 0)), 2), (((2, 2), (1, 1), (0, 1)), 1), (((0, 2), (2, 2), (3, 1)), 1), (((3, 0), (3, 2), (0, 1)), 1), (((0, 3), (3, 0), (0, 3)), 1), (((1, 2), (2, 3), (2, 3)), 2), (((1, 1), (0, 3), (1, 0)), 1), (((1, 3), (1, 3), (0, 1)), 2), (((1, 3), (0, 0), (3, 0)), 2), (((0, 0), (2, 3), (1, 2)), 1), (((3, 3), (0, 1), (3, 2)), 2), (((2, 1), (0, 2), (3, 0)), 2), (((1, 1), (0, 1), (0, 3)), 1), (((0, 3), (1, 0), (3, 3)), 1), (((2, 1), (2, 2), (0, 2)), 2), (((2, 0), (3, 2), (1, 0)), 2), (((2, 0), (2, 2), (2, 1)), 1), (((1, 2), (1, 1), (3, 1)), 1), (((0, 0), (0, 2), (3, 1)), 1), (((2, 0), (1, 1), (3, 2)), 1), (((0, 1), (1, 0), (1, 0)), 2), (((3, 3), (3, 3), (0, 3)), 1), (((2, 0), (2, 3), (1, 0)), 1), (((1, 3), (2, 2), (2, 2)), 1), (((3, 1), (0, 2), (0, 1)), 2), (((0, 1), (1, 2), (3, 0)), 2), (((2, 3), (0, 0), (2, 1)), 1), (((0, 2), (3, 0), (3, 1)), 1), (((2, 0), (0, 0), (1, 3)), 2), (((0, 3), (2, 1), (1, 0)), 1), (((1, 0), (2, 3), (2, 2)), 1), (((0, 3), (3, 1), (3, 2)), 1), (((1, 0), (1, 2), (0, 3)), 2), (((0, 3), (3, 3), (2, 3)), 2), (((2, 1), (2, 0), (0, 1)), 2), (((1, 0), (1, 2), (0, 2)), 2), (((1, 3), (3, 2), (3, 0)), 1), (((1, 3), (0, 1), (1, 1)), 2), (((1, 3), (0, 0), (2, 1)), 1), (((3, 1), (0, 1), (1, 0)), 1), (((1, 1), (2, 2), (3, 1)), 1), (((1, 0), (2, 0), (3, 3)), 1), (((3, 1), (0, 1), (2, 2)), 1), (((0, 2), (1, 3), (0, 0)), 1), (((2, 0), (3, 2), (2, 3)), 1), (((3, 1), (0, 1), (1, 3)), 1), (((0, 2), (1, 0), (3, 1)), 2), (((3, 1), (1, 0), (0, 3)), 2), (((3, 3), (3, 1), (3, 2)), 1), (((1, 3), (2, 0), (3, 3)), 1), (((3, 3), (3, 1), (2, 3)), 2), (((2, 3), (1, 0), (3, 0)), 1), (((0, 2), (2, 3), (3, 3)), 2), (((0, 0), (3, 0), (2, 0)), 2), (((3, 3), (2, 1), (0, 3)), 1), (((2, 3), (2, 3), (3, 3)), 2), (((1, 3), (2, 0), (3, 2)), 2), (((2, 2), (3, 1), (0, 0)), 1), (((3, 0), (1, 2), (2, 3)), 2), (((2, 1), (2, 3), (0, 2)), 2), (((1, 1), (3, 2), (2, 1)), 1), (((1, 3), (0, 3), (0, 2)), 2), (((1, 3), (3, 0), (0, 1)), 1), (((0, 3), (0, 1), (1, 1)), 2), (((3, 1), (3, 0), (3, 3)), 1), (((2, 3), (1, 1), (3, 0)), 1), (((3, 0), (3, 1), (2, 3)), 2), (((1, 0), (3, 3), (2, 1)), 2), (((1, 2), (3, 2), (3, 2)), 2), (((2, 1), (0, 3), (0, 0)), 1), (((1, 3), (0, 3), (3, 3)), 1), (((1, 0), (2, 2), (1, 1)), 1), (((0, 3), (2, 2), (3, 2)), 2), (((2, 2), (3, 3), (1, 2)), 1), (((1, 3), (3, 3), (3, 2)), 2), (((3, 3), (1, 3), (0, 3)), 2), (((3, 0), (0, 0), (0, 0)), 1), (((2, 0), (3, 3), (0, 0)), 1), (((1, 3), (3, 1), (2, 2)), 2), (((1, 3), (2, 0), (1, 2)), 2), (((1, 1), (2, 1), (1, 0)), 1), (((1, 2), (1, 3), (2, 1)), 1), (((1, 2), (0, 0), (3, 3)), 1), (((1, 1), (0, 3), (2, 3)), 1)]\n",
            "[(((1, 0), (2, 0), (1, 0)), [1]), (((2, 1), (3, 2), (1, 3)), [1]), (((1, 3), (0, 3), (0, 2)), [2, 2]), (((0, 3), (0, 2), (3, 0)), [2]), (((0, 1), (2, 2), (0, 1)), [2]), (((3, 0), (0, 3), (0, 0)), [1]), (((3, 3), (2, 2), (3, 3)), [1]), (((2, 1), (3, 2), (2, 2)), [1]), (((1, 0), (1, 1), (3, 3)), [2]), (((0, 3), (0, 3), (2, 1)), [2]), (((0, 3), (1, 3), (3, 0)), [1]), (((2, 0), (0, 3), (0, 0)), [1]), (((3, 2), (1, 1), (0, 2)), [2]), (((1, 2), (2, 0), (0, 1)), [1]), (((2, 2), (3, 2), (3, 3)), [2]), (((3, 1), (1, 1), (3, 0)), [1]), (((2, 1), (3, 3), (2, 0)), [2]), (((2, 2), (1, 1), (0, 1)), [1]), (((0, 2), (2, 2), (3, 1)), [1]), (((3, 0), (3, 2), (0, 1)), [1]), (((0, 3), (3, 0), (0, 3)), [1]), (((1, 2), (2, 3), (2, 3)), [2]), (((1, 1), (0, 3), (1, 0)), [1]), (((1, 3), (1, 3), (0, 1)), [2]), (((1, 3), (0, 0), (3, 0)), [2]), (((0, 0), (2, 3), (1, 2)), [1]), (((3, 3), (0, 1), (3, 2)), [2]), (((2, 1), (0, 2), (3, 0)), [2]), (((1, 1), (0, 1), (0, 3)), [1]), (((0, 3), (1, 0), (3, 3)), [1]), (((2, 1), (2, 2), (0, 2)), [2]), (((2, 0), (3, 2), (1, 0)), [2]), (((2, 0), (2, 2), (2, 1)), [1]), (((1, 2), (1, 1), (3, 1)), [1]), (((0, 0), (0, 2), (3, 1)), [1]), (((2, 0), (1, 1), (3, 2)), [1]), (((0, 1), (1, 0), (1, 0)), [2]), (((3, 3), (3, 3), (0, 3)), [1]), (((2, 0), (2, 3), (1, 0)), [1]), (((1, 3), (2, 2), (2, 2)), [1]), (((3, 1), (0, 2), (0, 1)), [2]), (((0, 1), (1, 2), (3, 0)), [2]), (((2, 3), (0, 0), (2, 1)), [1]), (((0, 2), (3, 0), (3, 1)), [1]), (((2, 0), (0, 0), (1, 3)), [2]), (((0, 3), (2, 1), (1, 0)), [1]), (((1, 0), (2, 3), (2, 2)), [1]), (((0, 3), (3, 1), (3, 2)), [1]), (((1, 0), (1, 2), (0, 3)), [2]), (((0, 3), (3, 3), (2, 3)), [2]), (((2, 1), (2, 0), (0, 1)), [2]), (((1, 0), (1, 2), (0, 2)), [2]), (((1, 3), (3, 2), (3, 0)), [1]), (((1, 3), (0, 1), (1, 1)), [2]), (((1, 3), (0, 0), (2, 1)), [1]), (((3, 1), (0, 1), (1, 0)), [1]), (((1, 1), (2, 2), (3, 1)), [1]), (((1, 0), (2, 0), (3, 3)), [1]), (((3, 1), (0, 1), (2, 2)), [1]), (((0, 2), (1, 3), (0, 0)), [1]), (((2, 0), (3, 2), (2, 3)), [1]), (((3, 1), (0, 1), (1, 3)), [1]), (((0, 2), (1, 0), (3, 1)), [2]), (((3, 1), (1, 0), (0, 3)), [2]), (((3, 3), (3, 1), (3, 2)), [1]), (((1, 3), (2, 0), (3, 3)), [1]), (((3, 3), (3, 1), (2, 3)), [2]), (((2, 3), (1, 0), (3, 0)), [1]), (((0, 2), (2, 3), (3, 3)), [2]), (((0, 0), (3, 0), (2, 0)), [2]), (((3, 3), (2, 1), (0, 3)), [1]), (((2, 3), (2, 3), (3, 3)), [2]), (((1, 3), (2, 0), (3, 2)), [2]), (((2, 2), (3, 1), (0, 0)), [1]), (((3, 0), (1, 2), (2, 3)), [2]), (((2, 1), (2, 3), (0, 2)), [2]), (((1, 1), (3, 2), (2, 1)), [1]), (((1, 3), (3, 0), (0, 1)), [1]), (((0, 3), (0, 1), (1, 1)), [2]), (((3, 1), (3, 0), (3, 3)), [1]), (((2, 3), (1, 1), (3, 0)), [1]), (((3, 0), (3, 1), (2, 3)), [2]), (((1, 0), (3, 3), (2, 1)), [2]), (((1, 2), (3, 2), (3, 2)), [2]), (((2, 1), (0, 3), (0, 0)), [1]), (((1, 3), (0, 3), (3, 3)), [1]), (((1, 0), (2, 2), (1, 1)), [1]), (((0, 3), (2, 2), (3, 2)), [2]), (((2, 2), (3, 3), (1, 2)), [1]), (((1, 3), (3, 3), (3, 2)), [2]), (((3, 3), (1, 3), (0, 3)), [2]), (((3, 0), (0, 0), (0, 0)), [1]), (((2, 0), (3, 3), (0, 0)), [1]), (((1, 3), (3, 1), (2, 2)), [2]), (((1, 3), (2, 0), (1, 2)), [2]), (((1, 1), (2, 1), (1, 0)), [1]), (((1, 2), (1, 3), (2, 1)), [1]), (((1, 2), (0, 0), (3, 3)), [1]), (((1, 1), (0, 3), (2, 3)), [1])]\n",
            "[((1, 0), (2, 0), (1, 0)), ((2, 1), (3, 2), (1, 3)), ((3, 0), (0, 3), (0, 0)), ((3, 3), (2, 2), (3, 3)), ((2, 1), (3, 2), (2, 2)), ((0, 3), (1, 3), (3, 0)), ((2, 0), (0, 3), (0, 0)), ((1, 2), (2, 0), (0, 1)), ((3, 1), (1, 1), (3, 0)), ((2, 2), (1, 1), (0, 1)), ((0, 2), (2, 2), (3, 1)), ((3, 0), (3, 2), (0, 1)), ((0, 3), (3, 0), (0, 3)), ((1, 1), (0, 3), (1, 0)), ((0, 0), (2, 3), (1, 2)), ((1, 1), (0, 1), (0, 3)), ((0, 3), (1, 0), (3, 3)), ((2, 0), (2, 2), (2, 1)), ((1, 2), (1, 1), (3, 1)), ((0, 0), (0, 2), (3, 1)), ((2, 0), (1, 1), (3, 2)), ((3, 3), (3, 3), (0, 3)), ((2, 0), (2, 3), (1, 0)), ((1, 3), (2, 2), (2, 2)), ((2, 3), (0, 0), (2, 1)), ((0, 2), (3, 0), (3, 1)), ((0, 3), (2, 1), (1, 0)), ((1, 0), (2, 3), (2, 2)), ((0, 3), (3, 1), (3, 2)), ((1, 3), (3, 2), (3, 0)), ((1, 3), (0, 0), (2, 1)), ((3, 1), (0, 1), (1, 0)), ((1, 1), (2, 2), (3, 1)), ((1, 0), (2, 0), (3, 3)), ((3, 1), (0, 1), (2, 2)), ((0, 2), (1, 3), (0, 0)), ((2, 0), (3, 2), (2, 3)), ((3, 1), (0, 1), (1, 3)), ((3, 3), (3, 1), (3, 2)), ((1, 3), (2, 0), (3, 3)), ((2, 3), (1, 0), (3, 0)), ((3, 3), (2, 1), (0, 3)), ((2, 2), (3, 1), (0, 0)), ((1, 1), (3, 2), (2, 1)), ((1, 3), (3, 0), (0, 1)), ((3, 1), (3, 0), (3, 3)), ((2, 3), (1, 1), (3, 0)), ((2, 1), (0, 3), (0, 0)), ((1, 3), (0, 3), (3, 3)), ((1, 0), (2, 2), (1, 1)), ((2, 2), (3, 3), (1, 2)), ((3, 0), (0, 0), (0, 0)), ((2, 0), (3, 3), (0, 0)), ((1, 1), (2, 1), (1, 0)), ((1, 2), (1, 3), (2, 1)), ((1, 2), (0, 0), (3, 3)), ((1, 1), (0, 3), (2, 3))]\n"
          ]
        }
      ],
      "source": [
        "rels = [1, 2]  # Определяем список rels\n",
        "\n",
        "class Tuple:\n",
        "    def __init__(self, data: tuple, rel_id: int):\n",
        "        self.data = data  # Содержит данные\n",
        "        self.rel_id = rel_id  # Содержит идентификатор отношения\n",
        "\n",
        "def get_random_tuple(count):\n",
        "    data = tuple([(random.randint(0, 3), random.randint(0, 3)) for i in range(count)])  # Генерируем случайный кортеж данных\n",
        "    rel_id = rels[random.randint(0, len(rels) - 1)]  # Выбираем случайный идентификатор отношения из списка rels\n",
        "    return Tuple(data, rel_id)  # Возвращаем объект Tuple с сгенерированными данными и идентификатором отношения\n",
        "\n",
        "def RECORDREADER(count):\n",
        "    return [get_random_tuple(3) for i in range(count)]  # Генерируем список Tuple с помощью get_random_tuple\n",
        "\n",
        "def MAP(t: Tuple):\n",
        "    return (t.data, t.rel_id)  # Возвращает кортеж, содержащий данные и идентификатор отношения из объекта Tuple\n",
        "\n",
        "def REDUCE(key, values: Iterator[NamedTuple]):\n",
        "    if values == [rels[0]]:  # Если значения равны первому элементу списка rels\n",
        "        return (key, key)  # Возвращаем ключ\n",
        "    # если условие не выполняется, функция не возвращает ничего, что приводит к возвращению значения None\n",
        "\n",
        "def group_by_key(iterable):\n",
        "    t = {}  # Создаем пустой словарь\n",
        "    for (k2, v2) in iterable:  # Перебираем ключи и значения во входном итерируемом объекте\n",
        "        t[k2] = t.get(k2, []) + [v2]  # Добавляем значение v2 в список, связанный с ключом k2 в словаре t\n",
        "    return t.items()  # Возвращаем элементы словаря как список кортежей\n",
        "\n",
        "record = RECORDREADER(100)  # Создаем список из 100 случайных записей\n",
        "print(record)  # Выводим список записей\n",
        "\n",
        "map_output = list(map(lambda x: MAP(x), RECORDREADER(100)))  # Применяем MAP к каждой записи и сохраняем результат\n",
        "print(map_output)  # Выводим результаты отображения\n",
        "\n",
        "shuffle_output = group_by_key(map_output)  # Группируем результаты отображения по ключу\n",
        "shuffle_output = list(shuffle_output)  # Преобразуем результат группировки в список\n",
        "print(shuffle_output)  # Выводим результат группировки\n",
        "\n",
        "# Применяем REDUCE к результату группировки и сохраняем результат\n",
        "# Затем фильтруем результаты, исключая значения None, и оставляем только первый элемент каждого кортежа\n",
        "reduce_output = [el[0] for el in list(map(lambda x: REDUCE(*x), shuffle_output)) if el is not None]\n",
        "print(reduce_output)  # Выводим редуцированный результат"
      ]
    },
    {
      "cell_type": "markdown",
      "metadata": {
        "id": "j8I58V2VwhSm"
      },
      "source": [
        "### Natural Join\n",
        "\n",
        "**The Map Function:** Для каждого кортежа $(a, b)$ отношения $R$, создайте пару $(b,(R, a))$. Для каждого кортежа $(b, c)$ отношения $S$, создайте пару $(b,(S, c))$.\n",
        "\n",
        "**The Reduce Function:** Каждый ключ $b$ будет асоциирован со списком пар, которые принимают форму либо $(R, a)$, либо $(S, c)$. Создайте все пары, одни, состоящие из  первого компонента $R$, а другие, из первого компонента $S$, то есть $(R, a)$ и $(S, c)$. На выходе вы получаете последовательность пар ключ-значение из списков ключей и значений. Ключ не нужен. Каждое значение, это тройка $(a, b, c)$ такая, что $(R, a)$ и $(S, c)$ это принадлежат входному списку значений."
      ]
    },
    {
      "cell_type": "code",
      "execution_count": 33,
      "metadata": {
        "id": "yHiuuTctw86I"
      },
      "outputs": [
        {
          "name": "stdout",
          "output_type": "stream",
          "text": [
            "[<__main__.Tuple object at 0x000001EB5D205520>, <__main__.Tuple object at 0x000001EB5D212CA0>, <__main__.Tuple object at 0x000001EB5D212250>, <__main__.Tuple object at 0x000001EB5D212A30>, <__main__.Tuple object at 0x000001EB5D212130>, <__main__.Tuple object at 0x000001EB5D212310>, <__main__.Tuple object at 0x000001EB5D212850>, <__main__.Tuple object at 0x000001EB5D212220>, <__main__.Tuple object at 0x000001EB5D212820>, <__main__.Tuple object at 0x000001EB5D2121F0>, <__main__.Tuple object at 0x000001EB5D212760>, <__main__.Tuple object at 0x000001EB5D212BE0>, <__main__.Tuple object at 0x000001EB5D212970>, <__main__.Tuple object at 0x000001EB5D2120D0>, <__main__.Tuple object at 0x000001EB5C1F9A00>, <__main__.Tuple object at 0x000001EB5C1F98E0>, <__main__.Tuple object at 0x000001EB5C1F9640>, <__main__.Tuple object at 0x000001EB5C1F9C70>, <__main__.Tuple object at 0x000001EB5C1F94C0>, <__main__.Tuple object at 0x000001EB5C1F9F40>, <__main__.Tuple object at 0x000001EB5C1F9A90>, <__main__.Tuple object at 0x000001EB4DE43EB0>, <__main__.Tuple object at 0x000001EB4DE430D0>, <__main__.Tuple object at 0x000001EB4DE43E50>, <__main__.Tuple object at 0x000001EB4DE435E0>, <__main__.Tuple object at 0x000001EB4DE43F10>, <__main__.Tuple object at 0x000001EB4DE43880>, <__main__.Tuple object at 0x000001EB4DE43790>, <__main__.Tuple object at 0x000001EB4DE43C40>, <__main__.Tuple object at 0x000001EB4DE43910>, <__main__.Tuple object at 0x000001EB4DE43EE0>, <__main__.Tuple object at 0x000001EB4DE43C70>, <__main__.Tuple object at 0x000001EB4DE43040>, <__main__.Tuple object at 0x000001EB4DE43E20>, <__main__.Tuple object at 0x000001EB4DE43BB0>, <__main__.Tuple object at 0x000001EB4DE431F0>, <__main__.Tuple object at 0x000001EB4DE43A00>, <__main__.Tuple object at 0x000001EB4DE439A0>, <__main__.Tuple object at 0x000001EB4DE432B0>, <__main__.Tuple object at 0x000001EB4DE430A0>, <__main__.Tuple object at 0x000001EB4DE437F0>, <__main__.Tuple object at 0x000001EB4DE43B80>, <__main__.Tuple object at 0x000001EB5D1F66A0>, <__main__.Tuple object at 0x000001EB5D1F6220>, <__main__.Tuple object at 0x000001EB5D1F6C10>, <__main__.Tuple object at 0x000001EB5D1F64C0>, <__main__.Tuple object at 0x000001EB5D1F6E20>, <__main__.Tuple object at 0x000001EB5D1F6DC0>, <__main__.Tuple object at 0x000001EB5D1F6EE0>, <__main__.Tuple object at 0x000001EB5D1F6B50>, <__main__.Tuple object at 0x000001EB5D1F6A30>, <__main__.Tuple object at 0x000001EB5D1F6BB0>, <__main__.Tuple object at 0x000001EB5D1F6280>, <__main__.Tuple object at 0x000001EB5D1F6DF0>, <__main__.Tuple object at 0x000001EB5D1F6A90>, <__main__.Tuple object at 0x000001EB5D1F6F10>, <__main__.Tuple object at 0x000001EB5D1F6670>, <__main__.Tuple object at 0x000001EB5C1C2670>, <__main__.Tuple object at 0x000001EB5D245910>, <__main__.Tuple object at 0x000001EB5D245D00>, <__main__.Tuple object at 0x000001EB5D245D60>, <__main__.Tuple object at 0x000001EB5D245CD0>, <__main__.Tuple object at 0x000001EB5D245A30>, <__main__.Tuple object at 0x000001EB5D2459D0>, <__main__.Tuple object at 0x000001EB5D245AF0>, <__main__.Tuple object at 0x000001EB5D245A90>, <__main__.Tuple object at 0x000001EB5D2452E0>, <__main__.Tuple object at 0x000001EB5D245F10>, <__main__.Tuple object at 0x000001EB5D245F40>, <__main__.Tuple object at 0x000001EB5D245C40>, <__main__.Tuple object at 0x000001EB5D245C10>, <__main__.Tuple object at 0x000001EB5D245BB0>, <__main__.Tuple object at 0x000001EB5D245D90>, <__main__.Tuple object at 0x000001EB5D245490>, <__main__.Tuple object at 0x000001EB5D245250>, <__main__.Tuple object at 0x000001EB5D245040>, <__main__.Tuple object at 0x000001EB5D245070>, <__main__.Tuple object at 0x000001EB5D2455B0>, <__main__.Tuple object at 0x000001EB5D245D30>, <__main__.Tuple object at 0x000001EB5D245940>, <__main__.Tuple object at 0x000001EB5C1EA460>, <__main__.Tuple object at 0x000001EB5C20A130>, <__main__.Tuple object at 0x000001EB5C20AE20>, <__main__.Tuple object at 0x000001EB5C20AEB0>, <__main__.Tuple object at 0x000001EB5C20A5B0>, <__main__.Tuple object at 0x000001EB5C20A640>, <__main__.Tuple object at 0x000001EB5C20A580>, <__main__.Tuple object at 0x000001EB5D1F6F70>, <__main__.Tuple object at 0x000001EB5C20ACD0>, <__main__.Tuple object at 0x000001EB5C20ACA0>, <__main__.Tuple object at 0x000001EB5C20A5E0>, <__main__.Tuple object at 0x000001EB5C20ABE0>, <__main__.Tuple object at 0x000001EB5C20A820>, <__main__.Tuple object at 0x000001EB5C20A100>, <__main__.Tuple object at 0x000001EB5C20A460>, <__main__.Tuple object at 0x000001EB5C20A6D0>, <__main__.Tuple object at 0x000001EB5C20AA00>, <__main__.Tuple object at 0x000001EB5C20A220>, <__main__.Tuple object at 0x000001EB5C20A670>, <__main__.Tuple object at 0x000001EB5C20AAC0>]\n",
            "[(3, (1, 0)), (0, (2, 3)), (0, (2, 0)), (0, (1, 1)), (3, (2, 2)), (0, (1, 1)), (1, (2, 0)), (0, (1, 0)), (2, (2, 0)), (0, (1, 2)), (1, (2, 2)), (1, (1, 1)), (2, (2, 2)), (2, (1, 2)), (2, (2, 1)), (2, (2, 0)), (1, (2, 3)), (2, (2, 3)), (2, (2, 0)), (1, (2, 2)), (2, (1, 1)), (0, (1, 0)), (2, (2, 3)), (0, (1, 2)), (2, (1, 1)), (1, (1, 2)), (2, (2, 2)), (0, (1, 1)), (1, (2, 3)), (3, (1, 2)), (1, (2, 1)), (1, (2, 2)), (2, (2, 3)), (3, (1, 0)), (2, (2, 1)), (2, (1, 1)), (3, (2, 1)), (2, (2, 0)), (2, (2, 0)), (2, (2, 0)), (1, (2, 1)), (3, (1, 3)), (3, (2, 3)), (1, (2, 1)), (1, (2, 3)), (1, (1, 1)), (0, (1, 3)), (3, (2, 0)), (2, (2, 0)), (0, (1, 1)), (0, (2, 1)), (3, (2, 1)), (0, (1, 1)), (0, (1, 1)), (3, (1, 1)), (0, (1, 1)), (2, (2, 2)), (1, (2, 2)), (2, (2, 0)), (2, (1, 0)), (0, (2, 3)), (3, (1, 0)), (2, (2, 3)), (3, (1, 3)), (2, (1, 0)), (2, (1, 1)), (2, (1, 0)), (1, (2, 1)), (3, (1, 2)), (0, (2, 2)), (3, (1, 3)), (1, (2, 1)), (1, (1, 2)), (0, (1, 3)), (1, (2, 1)), (3, (1, 1)), (3, (2, 0)), (2, (2, 2)), (3, (2, 3)), (3, (1, 3)), (2, (1, 2)), (1, (2, 1)), (1, (1, 2)), (3, (2, 2)), (1, (2, 2)), (3, (1, 3)), (0, (2, 2)), (0, (2, 0)), (0, (1, 1)), (2, (1, 0)), (1, (1, 0)), (2, (2, 3)), (0, (1, 1)), (2, (2, 2)), (1, (1, 2)), (3, (2, 3)), (3, (2, 3)), (1, (1, 2)), (2, (1, 2)), (0, (2, 2))]\n",
            "[(3, [(1, 0), (2, 2), (1, 2), (1, 0), (2, 1), (1, 3), (2, 3), (2, 0), (2, 1), (1, 1), (1, 0), (1, 3), (1, 2), (1, 3), (1, 1), (2, 0), (2, 3), (1, 3), (2, 2), (1, 3), (2, 3), (2, 3)]), (0, [(2, 3), (2, 0), (1, 1), (1, 1), (1, 0), (1, 2), (1, 0), (1, 2), (1, 1), (1, 3), (1, 1), (2, 1), (1, 1), (1, 1), (1, 1), (2, 3), (2, 2), (1, 3), (2, 2), (2, 0), (1, 1), (1, 1), (2, 2)]), (1, [(2, 0), (2, 2), (1, 1), (2, 3), (2, 2), (1, 2), (2, 3), (2, 1), (2, 2), (2, 1), (2, 1), (2, 3), (1, 1), (2, 2), (2, 1), (2, 1), (1, 2), (2, 1), (2, 1), (1, 2), (2, 2), (1, 0), (1, 2), (1, 2)]), (2, [(2, 0), (2, 2), (1, 2), (2, 1), (2, 0), (2, 3), (2, 0), (1, 1), (2, 3), (1, 1), (2, 2), (2, 3), (2, 1), (1, 1), (2, 0), (2, 0), (2, 0), (2, 0), (2, 2), (2, 0), (1, 0), (2, 3), (1, 0), (1, 1), (1, 0), (2, 2), (1, 2), (1, 0), (2, 3), (2, 2), (1, 2)])]\n",
            "[[(1, 3, 0), (2, 3, 2), (1, 3, 2), (1, 3, 0), (2, 3, 1), (1, 3, 3), (2, 3, 3), (2, 3, 0), (2, 3, 1), (1, 3, 1), (1, 3, 0), (1, 3, 3), (1, 3, 2), (1, 3, 3), (1, 3, 1), (2, 3, 0), (2, 3, 3), (1, 3, 3), (2, 3, 2), (1, 3, 3), (2, 3, 3), (2, 3, 3)], [(2, 0, 3), (2, 0, 0), (1, 0, 1), (1, 0, 1), (1, 0, 0), (1, 0, 2), (1, 0, 0), (1, 0, 2), (1, 0, 1), (1, 0, 3), (1, 0, 1), (2, 0, 1), (1, 0, 1), (1, 0, 1), (1, 0, 1), (2, 0, 3), (2, 0, 2), (1, 0, 3), (2, 0, 2), (2, 0, 0), (1, 0, 1), (1, 0, 1), (2, 0, 2)], [(2, 1, 0), (2, 1, 2), (1, 1, 1), (2, 1, 3), (2, 1, 2), (1, 1, 2), (2, 1, 3), (2, 1, 1), (2, 1, 2), (2, 1, 1), (2, 1, 1), (2, 1, 3), (1, 1, 1), (2, 1, 2), (2, 1, 1), (2, 1, 1), (1, 1, 2), (2, 1, 1), (2, 1, 1), (1, 1, 2), (2, 1, 2), (1, 1, 0), (1, 1, 2), (1, 1, 2)], [(2, 2, 0), (2, 2, 2), (1, 2, 2), (2, 2, 1), (2, 2, 0), (2, 2, 3), (2, 2, 0), (1, 2, 1), (2, 2, 3), (1, 2, 1), (2, 2, 2), (2, 2, 3), (2, 2, 1), (1, 2, 1), (2, 2, 0), (2, 2, 0), (2, 2, 0), (2, 2, 0), (2, 2, 2), (2, 2, 0), (1, 2, 0), (2, 2, 3), (1, 2, 0), (1, 2, 1), (1, 2, 0), (2, 2, 2), (1, 2, 2), (1, 2, 0), (2, 2, 3), (2, 2, 2), (1, 2, 2)]]\n"
          ]
        }
      ],
      "source": [
        "rels = [1, 2]  # Определяем список rels\n",
        "\n",
        "class Tuple:\n",
        "    def __init__(self, data: tuple, rel_id: int):\n",
        "        self.data = data  # Содержит данные\n",
        "        self.rel_id = rel_id  # Содержит идентификатор отношения\n",
        "\n",
        "def get_random_tuple():\n",
        "    data = (random.randint(0, 3), random.randint(0, 3))  # Генерируем случайный кортеж данных\n",
        "    rel_id = rels[random.randint(0, len(rels) - 1)]  # Выбираем случайный идентификатор отношения из списка rels\n",
        "    return Tuple(data, rel_id)  # Возвращаем объект Tuple с сгенерированными данными и идентификатором отношения\n",
        "\n",
        "def RECORDREADER(count):\n",
        "    return [get_random_tuple() for i in range(count)]  # Генерируем список Tuple с помощью get_random_tuple\n",
        "\n",
        "def MAP(t: Tuple):\n",
        "    if t.rel_id == rels[0]:  # Если идентификатор отношения равен первому элементу списка rels\n",
        "        return (t.data[1], (t.rel_id, t.data[0]))  # Возвращаем кортеж, содержащий второй элемент данных и пару (идентификатор отношения, первый элемент данных)\n",
        "    else:\n",
        "        return (t.data[0], (t.rel_id, t.data[1]))  # Возвращаем кортеж, содержащий первый элемент данных и пару (идентификатор отношения, второй элемент данных)\n",
        "\n",
        "def REDUCE(key, values: Iterator[NamedTuple]):\n",
        "    res = []  # Создаем пустой список для результатов\n",
        "    for v in values:  # Перебираем значения\n",
        "        res.append((v[0], key, v[1]))  # Добавляем кортеж в формате (значение, ключ, значение) в список res\n",
        "    return res  # Возвращаем список результатов\n",
        "\n",
        "def group_by_key(iterable):\n",
        "    t = {}  # Создаем пустой словарь\n",
        "    for (k2, v2) in iterable:  # Перебираем ключи и значения во входном итерируемом объекте\n",
        "        t[k2] = t.get(k2, []) + [v2]  # Добавляем значение v2 в список, связанный с ключом k2 в словаре t\n",
        "    return t.items()  # Возвращаем элементы словаря как список кортежей\n",
        "\n",
        "record = RECORDREADER(100)  # Создаем список из 100 случайных записей\n",
        "print(record)  # Выводим список записей\n",
        "\n",
        "map_output = list(map(lambda x: MAP(x), RECORDREADER(100)))  # Применяем MAP к каждой записи и сохраняем результат\n",
        "print(map_output)  # Выводим результаты отображения\n",
        "\n",
        "shuffle_output = group_by_key(map_output)  # Группируем результаты отображения по ключу\n",
        "shuffle_output = list(shuffle_output)  # Преобразуем результат группировки в список\n",
        "print(shuffle_output)  # Выводим результат группировки\n",
        "\n",
        "reduce_output = list(map(lambda x: REDUCE(*x), shuffle_output))  # Применяем REDUCE к результату группировки и сохраняем результат\n",
        "print(reduce_output)  # Выводим редуцированный результат"
      ]
    },
    {
      "cell_type": "markdown",
      "metadata": {
        "id": "kYdlr0YUxE27"
      },
      "source": [
        "### Grouping and Aggregation (Группировка и аггрегация)\n",
        "\n",
        "**The Map Function:** Для каждого кортежа $(a, b, c$) создайте пару $(a, b)$.\n",
        "\n",
        "**The Reduce Function:** Ключ представляет ту или иную группу. Примение аггрегирующую операцию $\\theta$ к списку значений $[b1, b2, . . . , bn]$ ассоциированных с ключом $a$. Возвращайте в выходной поток $(a, x)$, где $x$ результат применения  $\\theta$ к списку. Например, если $\\theta$ это $SUM$, тогда $x = b1 + b2 + · · · + bn$, а если $\\theta$ is $MAX$, тогда $x$ это максимальное из значений $b1, b2, . . . , bn$."
      ]
    },
    {
      "cell_type": "code",
      "execution_count": 35,
      "metadata": {
        "id": "MLPckfEGxico"
      },
      "outputs": [
        {
          "name": "stdout",
          "output_type": "stream",
          "text": [
            "[(3, 3, 0), (2, 1, 1), (3, 3, 3), (1, 2, 2), (1, 2, 0), (1, 0, 1), (2, 3, 3), (3, 1, 0), (2, 2, 2), (3, 0, 3), (2, 1, 0), (2, 3, 1), (2, 2, 2), (1, 0, 0), (2, 1, 0), (0, 0, 0), (2, 3, 1), (1, 2, 0), (0, 1, 1), (1, 3, 2), (3, 3, 0), (0, 2, 1), (0, 1, 0), (1, 1, 0), (3, 3, 0), (1, 0, 0), (3, 0, 1), (3, 1, 3), (1, 1, 0), (2, 3, 3), (2, 2, 0), (3, 3, 2), (3, 0, 1), (1, 2, 3), (2, 2, 0), (1, 2, 1), (3, 2, 1), (1, 2, 3), (0, 1, 2), (3, 1, 0), (2, 2, 2), (3, 1, 0), (0, 2, 3), (1, 3, 3), (3, 1, 0), (2, 3, 2), (3, 2, 1), (1, 0, 0), (0, 2, 1), (0, 3, 2), (3, 0, 0), (3, 2, 2), (1, 3, 0), (3, 3, 2), (3, 0, 1), (3, 2, 0), (1, 3, 2), (2, 3, 0), (2, 0, 1), (1, 2, 2), (0, 2, 2), (0, 2, 3), (0, 3, 3), (0, 0, 1), (2, 2, 2), (2, 3, 1), (2, 0, 0), (1, 3, 0), (2, 1, 2), (2, 1, 2), (3, 1, 3), (1, 2, 2), (1, 1, 1), (3, 3, 0), (3, 1, 2), (3, 3, 3), (0, 1, 3), (0, 2, 3), (1, 1, 1), (2, 2, 0), (3, 2, 2), (2, 3, 0), (0, 1, 3), (2, 1, 0), (2, 3, 3), (1, 1, 1), (1, 3, 0), (1, 0, 2), (1, 0, 3), (1, 2, 3), (1, 0, 3), (1, 1, 3), (0, 3, 3), (3, 1, 3), (1, 1, 3), (3, 3, 1), (1, 0, 3), (3, 2, 2), (2, 1, 1), (0, 0, 0)]\n",
            "[(1, 0), (2, 1), (1, 0), (1, 3), (2, 2), (3, 3), (1, 0), (3, 0), (0, 1), (3, 1), (1, 0), (3, 0), (2, 3), (3, 2), (2, 3), (2, 1), (1, 1), (1, 0), (2, 3), (3, 0), (0, 1), (3, 2), (2, 2), (3, 2), (3, 0), (2, 1), (0, 3), (2, 3), (0, 2), (0, 2), (1, 0), (3, 0), (0, 0), (1, 0), (2, 0), (1, 2), (3, 0), (2, 3), (3, 1), (2, 0), (2, 1), (3, 3), (1, 3), (1, 3), (3, 1), (2, 1), (1, 3), (1, 3), (3, 0), (1, 3), (3, 1), (3, 1), (1, 2), (2, 3), (1, 3), (1, 1), (0, 1), (2, 3), (1, 3), (3, 3), (1, 1), (3, 3), (1, 0), (3, 3), (2, 2), (0, 3), (2, 0), (2, 3), (0, 2), (1, 0), (2, 3), (1, 0), (3, 2), (3, 0), (3, 3), (0, 0), (0, 1), (2, 0), (3, 0), (2, 2), (0, 1), (0, 0), (3, 2), (3, 3), (0, 0), (1, 3), (2, 3), (0, 2), (2, 1), (2, 1), (1, 2), (3, 0), (1, 2), (1, 0), (2, 3), (0, 1), (3, 1), (2, 2), (1, 1), (2, 1)]\n",
            "[(1, [0, 0, 3, 0, 0, 1, 0, 0, 0, 2, 3, 3, 3, 3, 3, 2, 3, 1, 3, 1, 0, 0, 0, 3, 2, 2, 0, 1]), (2, [1, 2, 3, 3, 1, 3, 2, 1, 3, 0, 3, 0, 1, 1, 3, 3, 2, 0, 3, 3, 0, 2, 3, 1, 1, 3, 2, 1]), (3, [3, 0, 1, 0, 2, 0, 2, 2, 0, 0, 0, 1, 3, 1, 0, 1, 1, 3, 3, 3, 2, 0, 3, 0, 2, 3, 0, 1]), (0, [1, 1, 3, 2, 2, 0, 1, 3, 2, 0, 1, 1, 0, 0, 2, 1])]\n",
            "[(1, 39), (2, 51), (3, 37), (0, 20)]\n"
          ]
        }
      ],
      "source": [
        "# Генерируем случайный кортеж из трех целых чисел от 0 до 3\n",
        "def get_random_tuple():\n",
        "    return (random.randint(0, 3), random.randint(0, 3), random.randint(0, 3))\n",
        "\n",
        "# Генерируем список случайных кортежей заданного количества с помощью get_random_tuple\n",
        "def RECORDREADER(count):\n",
        "    return [get_random_tuple() for i in range(count)]\n",
        "\n",
        "# Возвращаем кортеж из первых двух элементов входного кортежа\n",
        "def MAP(t: Tuple):\n",
        "    return (t[0], t[1])\n",
        "\n",
        "# Возвращаем сумму всех значений в переданном списке\n",
        "def tetta(values):\n",
        "    return sum(values)\n",
        "\n",
        "# Возвращаем ключ и результат функции tetta, примененной к значениям\n",
        "def REDUCE(key, values: Iterator[NamedTuple]):\n",
        "    x = tetta(values)  # Вычисляем сумму значений\n",
        "    return (key, x)\n",
        "\n",
        "def group_by_key(iterable):\n",
        "    t = {}  # Создаем пустой словарь\n",
        "    for (k2, v2) in iterable:  # Перебираем ключи и значения во входном итерируемом объекте\n",
        "        t[k2] = t.get(k2, []) + [v2]  # Добавляем значение v2 в список, связанный с ключом k2 в словаре t\n",
        "    return t.items()  # Возвращаем элементы словаря как список кортежей\n",
        "\n",
        "record = RECORDREADER(100)  # Создаем список из 100 случайных записей\n",
        "print(record)  # Выводим список записей\n",
        "\n",
        "map_output = list(map(lambda x: MAP(x), RECORDREADER(100)))  # Применяем MAP к каждой записи и сохраняет результат\n",
        "print(map_output)  # Выводим результаты отображения\n",
        "\n",
        "shuffle_output = group_by_key(map_output)  # Группируем результаты отображения по ключу\n",
        "shuffle_output = list(shuffle_output)  # Преобразуем результат группировки в список\n",
        "print(shuffle_output)  # Выводим результат группировки\n",
        "\n",
        "reduce_output = list(map(lambda x: REDUCE(*x), shuffle_output))  # Применяем REDUCE к результату группировки и сохраняет результат\n",
        "print(reduce_output)  # Выводим редуцированный результат"
      ]
    },
    {
      "cell_type": "markdown",
      "metadata": {
        "id": "03IffTEOJgOb"
      },
      "source": [
        "# "
      ]
    },
    {
      "cell_type": "markdown",
      "metadata": {
        "id": "IIrRgvG4RIS4"
      },
      "source": [
        "### Matrix-Vector multiplication\n",
        "\n",
        "Случай, когда вектор не помещается в памяти Map задачи\n"
      ]
    },
    {
      "cell_type": "code",
      "execution_count": null,
      "metadata": {
        "id": "KQhDbiL3zS9r"
      },
      "outputs": [],
      "source": []
    },
    {
      "cell_type": "markdown",
      "metadata": {
        "id": "GIo2t7nNxvA9"
      },
      "source": [
        "## Matrix multiplication (Перемножение матриц)\n",
        "\n",
        "Если у нас есть матрица $M$ с элементами $m_{ij}$ в строке $i$ и столбце $j$, и матрица $N$ с элементами $n_{jk}$ в строке $j$ и столбце $k$, тогда их произведение $P = MN$ есть матрица $P$ с элементами $p_{ik}$ в строке $i$ и столбце $k$, где\n",
        "\n",
        "$$p_{ik} =\\sum_{j} m_{ij}n_{jk}$$\n",
        "\n",
        "Необходимым требованием является одинаковое количество столбцов в $M$ и строк в $N$, чтобы операция суммирования по  $j$ была осмысленной. Мы можем размышлять о матрице, как об отношении с тремя атрибутами: номер строки, номер столбца, само значение. Таким образом матрица $M$ предстваляется как отношение $ M(I, J, V )$, с кортежами $(i, j, m_{ij})$, и, аналогично, матрица $N$ представляется как отношение $N(J, K, W)$, с кортежами $(j, k, n_{jk})$. Так как большие матрицы как правило разреженные (большинство значений равно 0), и так как мы можем нулевыми значениями пренебречь (не хранить), такое реляционное представление достаточно эффективно для больших матриц. Однако, возможно, что координаты $i$, $j$, и $k$ неявно закодированы в смещение позиции элемента относительно начала файла, вместо явного хранения. Тогда, функция Map (или Reader) должна быть разработана таким образом, чтобы реконструировать компоненты $I$, $J$, и $K$ кортежей из смещения.\n",
        "\n",
        "Произведение $MN$ это фактически join, за которым следуют группировка по ключу и аггрегация. Таким образом join отношений $M(I, J, V )$ и $N(J, K, W)$, имеющих общим только атрибут $J$, создаст кортежи $(i, j, k, v, w)$ из каждого кортежа $(i, j, v) \\in M$ и кортежа $(j, k, w) \\in N$. Такой 5 компонентный кортеж представляет пару элементов матрицы $(m_{ij} , n_{jk})$. Что нам хотелось бы получить на самом деле, это произведение этих элементов, то есть, 4 компонентный кортеж$(i, j, k, v \\times w)$, так как он представляет произведение $m_{ij}n_{jk}$. Мы представляем отношение как результат одной MapReduce операции, в которой мы можем произвести группировку и аггрегацию, с $I$ и $K$  атрибутами, по которым идёт группировка, и суммой  $V \\times W$. \n",
        "\n",
        "\n",
        "\n"
      ]
    },
    {
      "cell_type": "code",
      "execution_count": 36,
      "metadata": {
        "id": "1MBkGaLAYVCt"
      },
      "outputs": [],
      "source": [
        "# MapReduce model\n",
        "def flatten(nested_iterable):\n",
        "  for iterable in nested_iterable:\n",
        "    for element in iterable:\n",
        "      yield element\n",
        "\n",
        "def groupbykey(iterable):\n",
        "  t = {}\n",
        "  for (k2, v2) in iterable:\n",
        "    t[k2] = t.get(k2, []) + [v2]\n",
        "  return t.items()\n",
        "\n",
        "def MapReduce(RECORDREADER, MAP, REDUCE):\n",
        "  return flatten(map(lambda x: REDUCE(*x), groupbykey(flatten(map(lambda x: MAP(*x), RECORDREADER())))))"
      ]
    },
    {
      "cell_type": "markdown",
      "metadata": {
        "id": "sMspsOT0ZB35"
      },
      "source": [
        "Реализуйте перемножение матриц с использованием модельного кода MapReduce для одной машины в случае, когда одна матрица хранится в памяти, а другая генерируется RECORDREADER-ом."
      ]
    },
    {
      "cell_type": "code",
      "execution_count": 37,
      "metadata": {
        "id": "psP1XekbsEjS"
      },
      "outputs": [],
      "source": [
        "import numpy as np\n",
        "\n",
        "I = 2\n",
        "J = 3\n",
        "K = 4*10\n",
        "\n",
        "# Создаем двумерный массив small_mat размером IxJ, заполненный случайными значениями от 0 до 1\n",
        "small_mat = np.random.rand(I, J)\n",
        "\n",
        "# Создаем двумерный массив big_mat размером JxK, заполненный случайными значениями от 0 до 1\n",
        "big_mat = np.random.rand(J, K)\n",
        "\n",
        "def RECORDREADER():\n",
        "    \"\"\"\n",
        "    Генератор, который перебирает индексы j и k в двумерном массиве big_mat\n",
        "    и возвращает кортеж ((j, k), значение) для каждого элемента.\n",
        "    \"\"\"\n",
        "    for j in range(big_mat.shape[0]):  # Перебираем индексы j\n",
        "        for k in range(big_mat.shape[1]):  # Перебираем индексы k\n",
        "            yield ((j, k), big_mat[j, k])  # Возвращаем кортеж ((j, k), значение элемента)\n",
        "\n",
        "def MAP(k1, v1):\n",
        "    \"\"\"\n",
        "    Функция отображения, которая для каждого элемента k1 с соответствующим значением v1\n",
        "    вычисляет новые значения для каждого индекса i и k с использованием матрицы small_mat.\n",
        "    \"\"\"\n",
        "    (j, k) = k1  # Разбиваем k1 на индексы j и k\n",
        "    w = v1  # Присваиваем значение v1 переменной w\n",
        "    for i in range(small_mat.shape[0]):  # Перебираем индексы i в small_mat\n",
        "        yield ((i, k), w * small_mat[i][j])  # Возвращаем новые значения ((i, k), новое значение)\n",
        "\n",
        "def REDUCE(key, values):\n",
        "    \"\"\"\n",
        "    Функция редукции, которая суммирует значения из values для каждого ключа key и возвращает сумму.\n",
        "    \"\"\"\n",
        "    (i, k) = key  # Разбиваем key на индексы i и k\n",
        "    el_value = 0  # Инициализируем переменную для суммы значений\n",
        "    for v in values:  # Перебираем значения в списке values\n",
        "        el_value += v  # Суммируем значения\n",
        "    yield ((i, k), el_value)  # Возвращаем кортеж ((i, k), сумма значений)"
      ]
    },
    {
      "cell_type": "markdown",
      "metadata": {
        "id": "rnt306LHhHrm"
      },
      "source": [
        "Проверьте своё решение"
      ]
    },
    {
      "cell_type": "code",
      "execution_count": 38,
      "metadata": {
        "colab": {
          "base_uri": "https://localhost:8080/",
          "height": 34
        },
        "id": "Ewy_ZNYqW5a2",
        "outputId": "9ce264f2-9412-44e2-9b0a-cc780573ab3a"
      },
      "outputs": [
        {
          "data": {
            "text/plain": [
              "True"
            ]
          },
          "execution_count": 38,
          "metadata": {},
          "output_type": "execute_result"
        }
      ],
      "source": [
        "# CHECK THE SOLUTION\n",
        "reference_solution = np.matmul(small_mat, big_mat) \n",
        "solution = MapReduce(RECORDREADER, MAP, REDUCE)\n",
        "\n",
        "def asmatrix(reduce_output):\n",
        "  reduce_output = list(reduce_output)\n",
        "  I = max(i for ((i,k), vw) in reduce_output)+1\n",
        "  K = max(k for ((i,k), vw) in reduce_output)+1\n",
        "  mat = np.empty(shape=(I,K))\n",
        "  for ((i,k), vw) in reduce_output:\n",
        "    mat[i,k] = vw\n",
        "  return mat\n",
        "\n",
        "np.allclose(reference_solution, asmatrix(solution)) # should return true"
      ]
    },
    {
      "cell_type": "code",
      "execution_count": 39,
      "metadata": {
        "colab": {
          "base_uri": "https://localhost:8080/",
          "height": 34
        },
        "id": "TK7v4CEcfxqf",
        "outputId": "2c865d0a-4065-4e6b-c83f-5508ed5eb4fa"
      },
      "outputs": [
        {
          "data": {
            "text/plain": [
              "1"
            ]
          },
          "execution_count": 39,
          "metadata": {},
          "output_type": "execute_result"
        }
      ],
      "source": [
        "reduce_output = list(MapReduce(RECORDREADER, MAP, REDUCE))\n",
        "max(i for ((i,k), vw) in reduce_output)"
      ]
    },
    {
      "cell_type": "markdown",
      "metadata": {
        "id": "i4yyg3kOZqJJ"
      },
      "source": [
        "Реализуйте перемножение матриц  с использованием модельного кода MapReduce для одной машины в случае, когда обе матрицы генерируются в RECORDREADER. Например, сначала одна, а потом другая."
      ]
    },
    {
      "cell_type": "code",
      "execution_count": 40,
      "metadata": {
        "id": "3B7rIAJCaHZq"
      },
      "outputs": [
        {
          "data": {
            "text/plain": [
              "True"
            ]
          },
          "execution_count": 40,
          "metadata": {},
          "output_type": "execute_result"
        }
      ],
      "source": [
        "import numpy as np\n",
        "\n",
        "# Определяем размерности матриц\n",
        "I = 2\n",
        "J = 3\n",
        "K = 4 * 10\n",
        "\n",
        "# Генерируем случайные матрицы small_mat и big_mat\n",
        "small_mat = np.random.rand(I, J)\n",
        "big_mat = np.random.rand(J, K)\n",
        "\n",
        "# Вычисляем эталонное решение путем перемножения матриц small_mat и big_mat\n",
        "reference_solution = np.matmul(small_mat, big_mat)\n",
        "\n",
        "def RECORDREADER():\n",
        "    \"\"\"\n",
        "    Генератор, который сначала перебирает индексы i и j в small_mat и возвращает соответствующие элементы,\n",
        "    а затем перебирает индексы j и k в big_mat и возвращает соответствующие элементы.\n",
        "    \"\"\"\n",
        "    for i in range(small_mat.shape[0]):  # Перебираем индексы i в small_mat\n",
        "        for j in range(small_mat.shape[1]):  # Перебираем индексы j в small_mat\n",
        "            yield ((0, i, j), small_mat[i, j])  # Возвращаем кортеж ((0, i, j), значение элемента)\n",
        "\n",
        "    for j in range(big_mat.shape[0]):  # Перебираем индексы j в big_mat\n",
        "        for k in range(big_mat.shape[1]):  # Перебираем индексы k в big_mat\n",
        "            yield ((1, j, k), big_mat[j, k])  # Возвращаем кортеж ((1, j, k), значение элемента)\n",
        "\n",
        "def MAP_JOIN(k1, v1):\n",
        "    \"\"\"\n",
        "    Функция отображения, которая разбивает входные данные на две группы: значения, соответствующие small_mat,\n",
        "    и значения, соответствующие big_mat, и передает их дальше.\n",
        "    \"\"\"\n",
        "    (mat_num, i, j) = k1  # Разбиваем ключ на матрицу, индекс i и индекс j\n",
        "    w = v1  # Присваиваем значение v1 переменной w\n",
        "    if mat_num == 0:  # Если матрица small_mat\n",
        "        yield (j, (mat_num, i, w))  # Возвращаем кортеж (j, (mat_num, i, w))\n",
        "    else:  # Иначе (матрица big_mat)\n",
        "        yield (i, (mat_num, j, w))  # Возвращаем кортеж (i, (mat_num, j, w))\n",
        "\n",
        "def REDUCE_JOIN(key, values):\n",
        "    \"\"\"\n",
        "    Функция редукции, которая объединяет значения из двух групп (small_mat и big_mat)\n",
        "    и возвращает их произведение для каждой комбинации индексов.\n",
        "    \"\"\"\n",
        "    from_first_mat = [v for v in values if v[0] == 0]  # Фильтруем значения, соответствующие small_mat\n",
        "    from_second_mat = [v for v in values if v[0] == 1]  # Фильтруем значения, соответствующие big_mat\n",
        "    for f in from_first_mat:  # Перебираем значения из small_mat\n",
        "        for s in from_second_mat:  # Перебираем значения из big_mat\n",
        "            yield ((f[1], s[1]), f[2] * s[2])  # Возвращаем произведение значений\n",
        "\n",
        "def MAP_MUL(k1, v1):\n",
        "    \"\"\"\n",
        "    Функция отображения, которая просто возвращает ключ и значение без изменений.\n",
        "    \"\"\"\n",
        "    (i, k) = k1  # Разбиваем ключ на индексы i и k\n",
        "    yield ((i, k), v1)  # Возвращаем кортеж ((i, k), v1)\n",
        "\n",
        "def REDUCE_MUL(key, values):\n",
        "    \"\"\"\n",
        "    Функция редукции, которая суммирует все значения для каждого ключа и возвращает сумму.\n",
        "    \"\"\"\n",
        "    res_el_value = 0  # Инициализируем переменную для суммы значений\n",
        "    for v in values:  # Перебираем значения в списке values\n",
        "        res_el_value += v  # Суммируем значения\n",
        "    yield (key, res_el_value)  # Возвращаем ключ и сумму значений\n",
        "\n",
        "def GET_JOINED():\n",
        "    \"\"\"\n",
        "    Функция, которая возвращает объединенные результаты из joined.\n",
        "    \"\"\"\n",
        "    for j in joined:  # Перебираем значения в joined\n",
        "        yield j  # Возвращаем значение\n",
        "\n",
        "# Вызываем MapReduce для выполнения операции JOIN\n",
        "joined = MapReduce(RECORDREADER, MAP_JOIN, REDUCE_JOIN)\n",
        "# Вызываем MapReduce для выполнения операции умножения\n",
        "solution = MapReduce(GET_JOINED, MAP_MUL, REDUCE_MUL)\n",
        "# Проверяем, что решение совпадает с эталонным решением с использованием np.allclose\n",
        "np.allclose(reference_solution, asmatrix(solution))  # Должен вернуть True"
      ]
    },
    {
      "cell_type": "markdown",
      "metadata": {
        "id": "mXyzQi1DaIwo"
      },
      "source": [
        "Реализуйте перемножение матриц с использованием модельного кода MapReduce Distributed, когда каждая матрица генерируется в своём RECORDREADER. "
      ]
    },
    {
      "cell_type": "code",
      "execution_count": 41,
      "metadata": {
        "id": "TDM_s78Rb5eR"
      },
      "outputs": [
        {
          "name": "stdout",
          "output_type": "stream",
          "text": [
            "240 key-value pairs were sent over a network.\n",
            "[[0.83567617 0.76693532 0.81421986 0.93286833 1.00666554 1.83237462\n",
            "  1.35847856 1.24498094 0.6461546  1.1935875  1.2225548  1.6166573\n",
            "  1.07840429 0.72278764 1.05590409 0.73956177 1.2292719  1.46588631\n",
            "  1.01920025 1.63962525 0.99715144 0.92021516 1.33276329 1.01422579\n",
            "  1.27844271 1.5351707  1.162331   1.37648443 1.14550149 1.32044081\n",
            "  1.64658629 1.46963601 0.7948784  0.37241511 1.24062749 1.46342476\n",
            "  1.33225307 0.91647748 1.1292259  1.30842477]\n",
            " [0.6481539  0.82275859 1.02460405 0.49050917 1.38046164 1.71176575\n",
            "  1.41876763 1.27466542 0.76638174 1.01091276 1.56992386 1.41261776\n",
            "  0.78381292 0.9317143  0.99068909 0.3961241  1.0424729  1.32863078\n",
            "  0.9264703  1.40133257 0.99694374 1.13368199 1.02937632 1.09154591\n",
            "  0.999332   1.20455139 1.20074963 1.2058232  0.96656847 1.1931205\n",
            "  1.38166067 1.45013545 0.69263301 0.39110881 0.80162849 1.31770284\n",
            "  0.97809765 1.07116544 1.32873559 1.03193674]]\n"
          ]
        },
        {
          "data": {
            "text/plain": [
              "True"
            ]
          },
          "execution_count": 41,
          "metadata": {},
          "output_type": "execute_result"
        }
      ],
      "source": [
        "maps = 2\n",
        "reducers = 2\n",
        "\n",
        "\n",
        "def INPUTFORMAT():\n",
        "    global maps\n",
        "\n",
        "    # Функция генерирует пары элементов из обеих матриц\n",
        "    def RECORDREADER(i_range):\n",
        "        for i in i_range:  # Перебираем диапазон индексов i\n",
        "            for j in range(J):  # Перебираем индексы j\n",
        "                for k in range(K):  # Перебираем индексы k\n",
        "                    yield (((i, j), small_mat[i, j]), ((j, k), big_mat[j, k]))  # Возвращаем пару элементов\n",
        "\n",
        "    # Разделение между вычислительными узлами происходит по строкам первой матрицы\n",
        "    split_size = int(np.ceil(I / maps))  # Вычисляем размер раздела\n",
        "    for i in range(0, I, split_size):  # Перебираем диапазоны индексов i с шагом split_size\n",
        "        yield RECORDREADER(range(i, i + split_size))  # Возвращаем результат работы функции RECORDREADER\n",
        "\n",
        "\n",
        "# Функция возвращает произведения соответствующих элементов из обеих матриц\n",
        "def MAP(element1, element2):\n",
        "    (i, j), v1 = element1\n",
        "    (j, k), v2 = element2\n",
        "\n",
        "    yield ((i, k), v1 * v2)\n",
        "\n",
        "# Функция суммирует полученные произведения\n",
        "def REDUCE(key, values):\n",
        "    (i, k) = key  # Разбиваем ключ на индексы i и k\n",
        "\n",
        "    # solution code that yield(k3,v3) pairs\n",
        "    k3 = (i, k)  # Создаем ключ k3\n",
        "    v3 = 0  # Инициализируем переменную для суммы\n",
        "\n",
        "    for j in range(J):  # Перебираем индексы j\n",
        "        v3 += values[j]  # Суммируем значения\n",
        "\n",
        "    yield (k3, v3)  # Возвращаем ключ и сумму значений\n",
        "\n",
        "\n",
        "# try to set COMBINER=REDUCER and look at the number of values sent over the network\n",
        "partitioned_output = MapReduceDistributed(INPUTFORMAT, MAP, REDUCE, COMBINER=None)\n",
        "partitioned_output = [\n",
        "    (partition_id, list(partition)) for (partition_id, partition) in partitioned_output\n",
        "]\n",
        "\n",
        "# Соединяем полученные произведения с разных вычислительных узлов\n",
        "solution = []\n",
        "for output_part in partitioned_output:  # Перебираем выходные части\n",
        "    for element in output_part[1]:  # Перебираем элементы выходной части\n",
        "        solution += [element]  # Добавляем элемент в решение\n",
        "\n",
        "print(asmatrix(solution))\n",
        "np.allclose(reference_solution, asmatrix(solution))  # should return true"
      ]
    },
    {
      "cell_type": "markdown",
      "metadata": {
        "id": "ZuSA2P9Db6UM"
      },
      "source": [
        "Обобщите предыдущее решение на случай, когда каждая матрица генерируется несколькими RECORDREADER-ами, и проверьте его работоспособность. Будет ли работать решение, если RECORDREADER-ы будут генерировать случайное подмножество элементов матрицы?"
      ]
    },
    {
      "cell_type": "code",
      "execution_count": 42,
      "metadata": {},
      "outputs": [
        {
          "name": "stdout",
          "output_type": "stream",
          "text": [
            "126 key-value pairs were sent over a network.\n",
            "[(0, [((0, 0), 0.1033323754474534), ((0, 1), 0.0038716376954038988), ((0, 2), 0.05787833364527408), ((0, 3), 0.11151757906189498), ((0, 4), 0.046381776247769006), ((0, 5), 0.035108402145897916), ((0, 6), 0.009595321332611388), ((0, 7), 0.09379160997984201), ((0, 8), 0.06943884204794325), ((0, 9), 0.008148119371027622), ((0, 10), 0.03647470159042513), ((0, 11), 0.05313259203388244), ((0, 12), 0.0916506195772022), ((0, 13), 0.028572245928828826), ((0, 14), 0.10294011745876366), ((0, 15), 0.1176590246470005), ((0, 16), 0.06360645237677391), ((0, 17), 0.06864202088405523), ((0, 18), 0.07495383927825283), ((0, 19), 0.041828560070764895), ((0, 20), 0.06724910567573196), ((0, 21), 0.01607322740961028), ((0, 22), 0.10881835933859561), ((0, 23), 0.08331390747285689), ((0, 24), 0.09829787034368594), ((0, 25), 0.016289422841245633), ((0, 26), 0.07601933155159998), ((0, 27), 0.08461335087042145), ((0, 28), 0.00296924636877737), ((0, 29), 0.011216311431202927), ((0, 30), 0.023993240872825946), ((0, 31), 0.0403829912985389), ((0, 32), 0.027433149254070234), ((0, 33), 0.09844809004156595), ((0, 34), 0.10822365781688861), ((0, 35), 0.030835052199187914), ((0, 36), 0.004537545277169402), ((0, 37), 0.09616509087593506), ((0, 38), 0.06883276513012174), ((0, 39), 0.10224508824331509), ((1, 0), 0.03914917943057013), ((1, 1), 0.0014668339731007478), ((1, 2), 0.021928163939030798), ((1, 3), 0.04225027919325271), ((1, 4), 0.01757250302985476), ((1, 5), 0.01330139880341098), ((1, 6), 0.0036353461818499043), ((1, 7), 0.035534502640463386), ((1, 8), 0.0263080537441854), ((1, 9), 0.0030870497837367397), ((1, 10), 0.013819043944907652), ((1, 11), 0.0201301612407383), ((1, 12), 0.03472335301703585), ((1, 13), 0.0108250679204691), ((1, 14), 0.03900056600408311), ((1, 15), 0.04457706742523952), ((1, 16), 0.024098356456603694), ((1, 17), 0.026006164867789724), ((1, 18), 0.028397501656260937), ((1, 19), 0.01584744177651742), ((1, 20), 0.025478435903986428), ((1, 21), 0.006089608035839445), ((1, 22), 0.04122763515925663), ((1, 23), 0.031564851757186374), ((1, 24), 0.03724177390739272), ((1, 25), 0.006171517250725016), ((1, 26), 0.028801181025969864), ((1, 27), 0.032057167379573225), ((1, 28), 0.001124948094548995), ((1, 29), 0.004249485089913705), ((1, 30), 0.00909023612380626), ((1, 31), 0.015299764139203422), ((1, 32), 0.010393502305957824), ((1, 33), 0.03729868712438638), ((1, 34), 0.041002322652115245), ((1, 35), 0.011682369500068955), ((1, 36), 0.001719124073757262), ((1, 37), 0.03643373513244678), ((1, 38), 0.026078431480090765), ((1, 39), 0.03873724269086922), ((0, 0), 0.07069723423295472), ((0, 1), 0.060812421554300514), ((0, 2), 0.0005824306030425193), ((0, 3), 0.1567853418743235), ((0, 4), 0.019529431887558183), ((0, 5), 0.2221361481508212), ((0, 6), 0.11099995354636001), ((0, 7), 0.16113163926343468), ((0, 8), 0.1485016386656823), ((0, 9), 0.08771871284878403), ((0, 10), 0.060380133878115305), ((0, 11), 0.02301069964159294), ((0, 12), 0.16813912616381335), ((0, 13), 0.056073685328731436), ((0, 14), 0.11417641586798605), ((0, 15), 0.1443076537073435), ((0, 16), 0.09004879867609654), ((0, 17), 0.1733715448706984), ((0, 18), 0.06420786002629907), ((0, 19), 0.16129558978297198), ((0, 20), 0.0376462794568428), ((0, 21), 0.1657001123445015), ((0, 22), 0.23044208236885158), ((0, 23), 0.10721265462234184), ((0, 24), 0.06322217865456614), ((0, 25), 0.12538041891835527), ((0, 26), 0.14017314754188062), ((0, 27), 0.18907788757589616), ((0, 28), 0.007771032857653605), ((0, 29), 0.19323190263735388), ((0, 30), 0.0735892060185506), ((0, 31), 0.16080160191773396), ((0, 32), 0.1985841750689442), ((0, 33), 0.2181505542077675), ((0, 34), 0.20660470303234552), ((0, 35), 0.08742381712756594), ((0, 36), 0.0977105320727731), ((0, 37), 0.2506776035479737), ((0, 38), 0.1797345331055419), ((0, 39), 0.16368228560960987), ((1, 0), 0.16568100658190488), ((1, 1), 0.14251566309652144), ((1, 2), 0.0013649429093395729), ((1, 3), 0.367430968705667), ((1, 4), 0.045767786649779936), ((1, 5), 0.5205824672374461), ((1, 6), 0.2601315911950208), ((1, 7), 0.37761664193808014), ((1, 8), 0.3480178714222421), ((1, 9), 0.20557133243666645), ((1, 10), 0.1415025844647985), ((1, 11), 0.05392623799412894), ((1, 12), 0.39403888951057514), ((1, 13), 0.13141029813710345), ((1, 14), 0.2675757222211703), ((1, 15), 0.338189146762416), ((1, 16), 0.21103195574788805), ((1, 17), 0.4063012135975137), ((1, 18), 0.15047297104401416), ((1, 19), 0.37800086470720656), ((1, 20), 0.08822514122576477), ((1, 21), 0.38832299030977724), ((1, 22), 0.5400476635322806), ((1, 23), 0.25125594698112874), ((1, 24), 0.14816299833278157), ((1, 25), 0.29383262637409996), ((1, 26), 0.32849981236843107), ((1, 27), 0.44310948053116583), ((1, 28), 0.018211639535920435), ((1, 29), 0.45284453458534396), ((1, 30), 0.17245842583518373), ((1, 31), 0.37684318990366056), ((1, 32), 0.46538773933143723), ((1, 33), 0.5112421129297231), ((1, 34), 0.484184077840465), ((1, 35), 0.20488023581233294), ((1, 36), 0.2289874488459738), ((1, 37), 0.5874701907929526), ((1, 38), 0.4212130599668343), ((1, 39), 0.383594155183878)]), (1, [((0, 0), 0.06348363070966967), ((0, 1), 0.042153217039116196), ((0, 2), 0.07147363579299164), ((0, 3), 0.1072607124841387), ((0, 4), 0.12583265400240248), ((0, 5), 0.03769913230617479), ((0, 6), 0.1146109697771579), ((0, 7), 0.05383182837618512), ((0, 8), 0.10896441684401272), ((0, 9), 0.12183580367948933), ((0, 10), 0.01662029932405692), ((0, 11), 0.043507613579368304), ((0, 12), 0.09871883240239028), ((0, 13), 0.040178177505679986), ((0, 14), 0.063555271259429), ((0, 15), 0.026704138185050203), ((0, 16), 0.12105547911369646), ((0, 17), 0.11452472392211721), ((0, 18), 0.005755140603059958), ((0, 19), 0.03508924982154184), ((0, 20), 0.10147483774254218), ((0, 21), 0.14354393542698685), ((0, 22), 0.10250306914590421), ((0, 23), 0.10263003116625193), ((0, 24), 0.08006047992813327), ((0, 25), 0.0896708052863398), ((0, 26), 0.016214579690883732), ((0, 27), 0.06267850685321061), ((0, 28), 0.07404047470547277), ((0, 29), 0.020493586768900958), ((0, 30), 0.0690876760374649), ((0, 31), 0.13861654153676528), ((0, 32), 0.008067035364563107), ((0, 33), 0.04802811342089838), ((0, 34), 0.039701930151162856), ((0, 35), 0.06697900872446154), ((0, 36), 0.12158436886696905), ((0, 37), 0.012832421024439447), ((0, 38), 0.0005597950252518579), ((0, 39), 0.03752764648667078), ((1, 0), 0.09821241393380854), ((1, 1), 0.06521317628194132), ((1, 2), 0.1105733592326874), ((1, 3), 0.16593779176720735), ((1, 4), 0.19466953233648737), ((1, 5), 0.058322480072575525), ((1, 6), 0.17730901461177664), ((1, 7), 0.08328058354876572), ((1, 8), 0.1685735092890676), ((1, 9), 0.18848620107522682), ((1, 10), 0.025712450574592694), ((1, 11), 0.06730849679456437), ((1, 12), 0.15272306770395608), ((1, 13), 0.062157689410363766), ((1, 14), 0.09832324551745862), ((1, 15), 0.04131266349856536), ((1, 16), 0.1872789991807911), ((1, 17), 0.1771755878760868), ((1, 18), 0.008903495985287104), ((1, 19), 0.05428485878289831), ((1, 20), 0.15698674850237576), ((1, 21), 0.22206978785313514), ((1, 22), 0.1585774749160645), ((1, 23), 0.15877389163572705), ((1, 24), 0.12385764497939361), ((1, 25), 0.13872530836864258), ((1, 26), 0.02508478161317949), ((1, 27), 0.09696684627212002), ((1, 28), 0.11454438992132136), ((1, 29), 0.03170462376262846), ((1, 30), 0.10688215782344747), ((1, 31), 0.21444685824196452), ((1, 32), 0.012480115071970284), ((1, 33), 0.07430194056362789), ((1, 34), 0.06142091046760564), ((1, 35), 0.10361994196278726), ((1, 36), 0.18809721859882206), ((1, 37), 0.01985240968949793), ((1, 38), 0.0008660314497379249), ((1, 39), 0.05805718276521246)])]\n",
            "aa (0, [((0, 0), 0.1033323754474534), ((0, 1), 0.0038716376954038988), ((0, 2), 0.05787833364527408), ((0, 3), 0.11151757906189498), ((0, 4), 0.046381776247769006), ((0, 5), 0.035108402145897916), ((0, 6), 0.009595321332611388), ((0, 7), 0.09379160997984201), ((0, 8), 0.06943884204794325), ((0, 9), 0.008148119371027622), ((0, 10), 0.03647470159042513), ((0, 11), 0.05313259203388244), ((0, 12), 0.0916506195772022), ((0, 13), 0.028572245928828826), ((0, 14), 0.10294011745876366), ((0, 15), 0.1176590246470005), ((0, 16), 0.06360645237677391), ((0, 17), 0.06864202088405523), ((0, 18), 0.07495383927825283), ((0, 19), 0.041828560070764895), ((0, 20), 0.06724910567573196), ((0, 21), 0.01607322740961028), ((0, 22), 0.10881835933859561), ((0, 23), 0.08331390747285689), ((0, 24), 0.09829787034368594), ((0, 25), 0.016289422841245633), ((0, 26), 0.07601933155159998), ((0, 27), 0.08461335087042145), ((0, 28), 0.00296924636877737), ((0, 29), 0.011216311431202927), ((0, 30), 0.023993240872825946), ((0, 31), 0.0403829912985389), ((0, 32), 0.027433149254070234), ((0, 33), 0.09844809004156595), ((0, 34), 0.10822365781688861), ((0, 35), 0.030835052199187914), ((0, 36), 0.004537545277169402), ((0, 37), 0.09616509087593506), ((0, 38), 0.06883276513012174), ((0, 39), 0.10224508824331509), ((1, 0), 0.03914917943057013), ((1, 1), 0.0014668339731007478), ((1, 2), 0.021928163939030798), ((1, 3), 0.04225027919325271), ((1, 4), 0.01757250302985476), ((1, 5), 0.01330139880341098), ((1, 6), 0.0036353461818499043), ((1, 7), 0.035534502640463386), ((1, 8), 0.0263080537441854), ((1, 9), 0.0030870497837367397), ((1, 10), 0.013819043944907652), ((1, 11), 0.0201301612407383), ((1, 12), 0.03472335301703585), ((1, 13), 0.0108250679204691), ((1, 14), 0.03900056600408311), ((1, 15), 0.04457706742523952), ((1, 16), 0.024098356456603694), ((1, 17), 0.026006164867789724), ((1, 18), 0.028397501656260937), ((1, 19), 0.01584744177651742), ((1, 20), 0.025478435903986428), ((1, 21), 0.006089608035839445), ((1, 22), 0.04122763515925663), ((1, 23), 0.031564851757186374), ((1, 24), 0.03724177390739272), ((1, 25), 0.006171517250725016), ((1, 26), 0.028801181025969864), ((1, 27), 0.032057167379573225), ((1, 28), 0.001124948094548995), ((1, 29), 0.004249485089913705), ((1, 30), 0.00909023612380626), ((1, 31), 0.015299764139203422), ((1, 32), 0.010393502305957824), ((1, 33), 0.03729868712438638), ((1, 34), 0.041002322652115245), ((1, 35), 0.011682369500068955), ((1, 36), 0.001719124073757262), ((1, 37), 0.03643373513244678), ((1, 38), 0.026078431480090765), ((1, 39), 0.03873724269086922), ((0, 0), 0.07069723423295472), ((0, 1), 0.060812421554300514), ((0, 2), 0.0005824306030425193), ((0, 3), 0.1567853418743235), ((0, 4), 0.019529431887558183), ((0, 5), 0.2221361481508212), ((0, 6), 0.11099995354636001), ((0, 7), 0.16113163926343468), ((0, 8), 0.1485016386656823), ((0, 9), 0.08771871284878403), ((0, 10), 0.060380133878115305), ((0, 11), 0.02301069964159294), ((0, 12), 0.16813912616381335), ((0, 13), 0.056073685328731436), ((0, 14), 0.11417641586798605), ((0, 15), 0.1443076537073435), ((0, 16), 0.09004879867609654), ((0, 17), 0.1733715448706984), ((0, 18), 0.06420786002629907), ((0, 19), 0.16129558978297198), ((0, 20), 0.0376462794568428), ((0, 21), 0.1657001123445015), ((0, 22), 0.23044208236885158), ((0, 23), 0.10721265462234184), ((0, 24), 0.06322217865456614), ((0, 25), 0.12538041891835527), ((0, 26), 0.14017314754188062), ((0, 27), 0.18907788757589616), ((0, 28), 0.007771032857653605), ((0, 29), 0.19323190263735388), ((0, 30), 0.0735892060185506), ((0, 31), 0.16080160191773396), ((0, 32), 0.1985841750689442), ((0, 33), 0.2181505542077675), ((0, 34), 0.20660470303234552), ((0, 35), 0.08742381712756594), ((0, 36), 0.0977105320727731), ((0, 37), 0.2506776035479737), ((0, 38), 0.1797345331055419), ((0, 39), 0.16368228560960987), ((1, 0), 0.16568100658190488), ((1, 1), 0.14251566309652144), ((1, 2), 0.0013649429093395729), ((1, 3), 0.367430968705667), ((1, 4), 0.045767786649779936), ((1, 5), 0.5205824672374461), ((1, 6), 0.2601315911950208), ((1, 7), 0.37761664193808014), ((1, 8), 0.3480178714222421), ((1, 9), 0.20557133243666645), ((1, 10), 0.1415025844647985), ((1, 11), 0.05392623799412894), ((1, 12), 0.39403888951057514), ((1, 13), 0.13141029813710345), ((1, 14), 0.2675757222211703), ((1, 15), 0.338189146762416), ((1, 16), 0.21103195574788805), ((1, 17), 0.4063012135975137), ((1, 18), 0.15047297104401416), ((1, 19), 0.37800086470720656), ((1, 20), 0.08822514122576477), ((1, 21), 0.38832299030977724), ((1, 22), 0.5400476635322806), ((1, 23), 0.25125594698112874), ((1, 24), 0.14816299833278157), ((1, 25), 0.29383262637409996), ((1, 26), 0.32849981236843107), ((1, 27), 0.44310948053116583), ((1, 28), 0.018211639535920435), ((1, 29), 0.45284453458534396), ((1, 30), 0.17245842583518373), ((1, 31), 0.37684318990366056), ((1, 32), 0.46538773933143723), ((1, 33), 0.5112421129297231), ((1, 34), 0.484184077840465), ((1, 35), 0.20488023581233294), ((1, 36), 0.2289874488459738), ((1, 37), 0.5874701907929526), ((1, 38), 0.4212130599668343), ((1, 39), 0.383594155183878)])\n",
            "aa (1, [((0, 0), 0.06348363070966967), ((0, 1), 0.042153217039116196), ((0, 2), 0.07147363579299164), ((0, 3), 0.1072607124841387), ((0, 4), 0.12583265400240248), ((0, 5), 0.03769913230617479), ((0, 6), 0.1146109697771579), ((0, 7), 0.05383182837618512), ((0, 8), 0.10896441684401272), ((0, 9), 0.12183580367948933), ((0, 10), 0.01662029932405692), ((0, 11), 0.043507613579368304), ((0, 12), 0.09871883240239028), ((0, 13), 0.040178177505679986), ((0, 14), 0.063555271259429), ((0, 15), 0.026704138185050203), ((0, 16), 0.12105547911369646), ((0, 17), 0.11452472392211721), ((0, 18), 0.005755140603059958), ((0, 19), 0.03508924982154184), ((0, 20), 0.10147483774254218), ((0, 21), 0.14354393542698685), ((0, 22), 0.10250306914590421), ((0, 23), 0.10263003116625193), ((0, 24), 0.08006047992813327), ((0, 25), 0.0896708052863398), ((0, 26), 0.016214579690883732), ((0, 27), 0.06267850685321061), ((0, 28), 0.07404047470547277), ((0, 29), 0.020493586768900958), ((0, 30), 0.0690876760374649), ((0, 31), 0.13861654153676528), ((0, 32), 0.008067035364563107), ((0, 33), 0.04802811342089838), ((0, 34), 0.039701930151162856), ((0, 35), 0.06697900872446154), ((0, 36), 0.12158436886696905), ((0, 37), 0.012832421024439447), ((0, 38), 0.0005597950252518579), ((0, 39), 0.03752764648667078), ((1, 0), 0.09821241393380854), ((1, 1), 0.06521317628194132), ((1, 2), 0.1105733592326874), ((1, 3), 0.16593779176720735), ((1, 4), 0.19466953233648737), ((1, 5), 0.058322480072575525), ((1, 6), 0.17730901461177664), ((1, 7), 0.08328058354876572), ((1, 8), 0.1685735092890676), ((1, 9), 0.18848620107522682), ((1, 10), 0.025712450574592694), ((1, 11), 0.06730849679456437), ((1, 12), 0.15272306770395608), ((1, 13), 0.062157689410363766), ((1, 14), 0.09832324551745862), ((1, 15), 0.04131266349856536), ((1, 16), 0.1872789991807911), ((1, 17), 0.1771755878760868), ((1, 18), 0.008903495985287104), ((1, 19), 0.05428485878289831), ((1, 20), 0.15698674850237576), ((1, 21), 0.22206978785313514), ((1, 22), 0.1585774749160645), ((1, 23), 0.15877389163572705), ((1, 24), 0.12385764497939361), ((1, 25), 0.13872530836864258), ((1, 26), 0.02508478161317949), ((1, 27), 0.09696684627212002), ((1, 28), 0.11454438992132136), ((1, 29), 0.03170462376262846), ((1, 30), 0.10688215782344747), ((1, 31), 0.21444685824196452), ((1, 32), 0.012480115071970284), ((1, 33), 0.07430194056362789), ((1, 34), 0.06142091046760564), ((1, 35), 0.10361994196278726), ((1, 36), 0.18809721859882206), ((1, 37), 0.01985240968949793), ((1, 38), 0.0008660314497379249), ((1, 39), 0.05805718276521246)])\n",
            "240 key-value pairs were sent over a network.\n",
            "[(0, [((0, 1), 0.10683727628882062), ((0, 2), 0.12993440004130824), ((0, 4), 0.19174386213772968), ((0, 5), 0.2949436826028939), ((0, 8), 0.32690489755763824), ((0, 9), 0.217702635899301), ((0, 11), 0.11965090525484368), ((0, 12), 0.3585085781434058), ((0, 15), 0.2886708165393942), ((0, 16), 0.2747107301665669), ((0, 18), 0.14491683990761187), ((0, 19), 0.23821339967527871), ((0, 22), 0.4417635108533514), ((0, 23), 0.29315659326145066), ((0, 25), 0.2313406470459407), ((0, 26), 0.23240705878436435), ((0, 29), 0.22494180083745774), ((0, 32), 0.23408435968757754), ((0, 33), 0.3646267576702318), ((0, 36), 0.22383244621691156), ((0, 39), 0.30345502033959576), ((1, 0), 0.3030425999462835), ((1, 1), 0.2091956733515635), ((1, 3), 0.575619039666127), ((1, 4), 0.2580098220161221), ((1, 7), 0.49643172812730924), ((1, 10), 0.18103407898429885), ((1, 11), 0.1413648960294316), ((1, 14), 0.40489953374271204), ((1, 17), 0.6094829663413902), ((1, 18), 0.1877739686855622), ((1, 21), 0.6164823861987518), ((1, 24), 0.30926241721956793), ((1, 25), 0.4387294519934676), ((1, 27), 0.5721334941828591), ((1, 28), 0.1338809775517908), ((1, 31), 0.6065898122848286), ((1, 32), 0.4882613567093653), ((1, 34), 0.5866073109601859), ((1, 35), 0.32018254727518913), ((1, 38), 0.44815752289666294), ((1, 39), 0.4803885806399597)]), (1, [((0, 0), 0.2375132403900778), ((0, 3), 0.3755636334203572), ((0, 6), 0.2352062446561293), ((0, 7), 0.3087550776194618), ((0, 10), 0.11347513479259735), ((0, 13), 0.12482410876324024), ((0, 14), 0.2806718045861787), ((0, 17), 0.35653828967687085), ((0, 20), 0.20637022287511694), ((0, 21), 0.32531727518109865), ((0, 24), 0.24158052892638532), ((0, 27), 0.33636974529952823), ((0, 28), 0.08478075393190375), ((0, 30), 0.16667012292884145), ((0, 31), 0.33980113475303814), ((0, 34), 0.354530291000397), ((0, 35), 0.1852378780512154), ((0, 37), 0.3596751154483482), ((0, 38), 0.2491270932609155), ((1, 2), 0.13386646608105776), ((1, 5), 0.5922063461134326), ((1, 6), 0.44107595198864735), ((1, 8), 0.5428994344554952), ((1, 9), 0.39714458329563), ((1, 12), 0.581485310231567), ((1, 13), 0.20439305546793632), ((1, 15), 0.42407887768622093), ((1, 16), 0.4224093113852828), ((1, 19), 0.4481331652666223), ((1, 20), 0.27069032563212697), ((1, 22), 0.7398527736076017), ((1, 23), 0.4415946903740422), ((1, 26), 0.3823857750075804), ((1, 29), 0.4887986434378861), ((1, 30), 0.28843081978243745), ((1, 33), 0.6228427406177374), ((1, 36), 0.4188037915185531), ((1, 37), 0.6437563356148973)])]\n",
            "[((0, 1), 0.10683727628882062), ((0, 2), 0.12993440004130824), ((0, 4), 0.19174386213772968), ((0, 5), 0.2949436826028939), ((0, 8), 0.32690489755763824), ((0, 9), 0.217702635899301), ((0, 11), 0.11965090525484368), ((0, 12), 0.3585085781434058), ((0, 15), 0.2886708165393942), ((0, 16), 0.2747107301665669), ((0, 18), 0.14491683990761187), ((0, 19), 0.23821339967527871), ((0, 22), 0.4417635108533514), ((0, 23), 0.29315659326145066), ((0, 25), 0.2313406470459407), ((0, 26), 0.23240705878436435), ((0, 29), 0.22494180083745774), ((0, 32), 0.23408435968757754), ((0, 33), 0.3646267576702318), ((0, 36), 0.22383244621691156), ((0, 39), 0.30345502033959576), ((1, 0), 0.3030425999462835), ((1, 1), 0.2091956733515635), ((1, 3), 0.575619039666127), ((1, 4), 0.2580098220161221), ((1, 7), 0.49643172812730924), ((1, 10), 0.18103407898429885), ((1, 11), 0.1413648960294316), ((1, 14), 0.40489953374271204), ((1, 17), 0.6094829663413902), ((1, 18), 0.1877739686855622), ((1, 21), 0.6164823861987518), ((1, 24), 0.30926241721956793), ((1, 25), 0.4387294519934676), ((1, 27), 0.5721334941828591), ((1, 28), 0.1338809775517908), ((1, 31), 0.6065898122848286), ((1, 32), 0.4882613567093653), ((1, 34), 0.5866073109601859), ((1, 35), 0.32018254727518913), ((1, 38), 0.44815752289666294), ((1, 39), 0.4803885806399597), ((0, 0), 0.2375132403900778), ((0, 3), 0.3755636334203572), ((0, 6), 0.2352062446561293), ((0, 7), 0.3087550776194618), ((0, 10), 0.11347513479259735), ((0, 13), 0.12482410876324024), ((0, 14), 0.2806718045861787), ((0, 17), 0.35653828967687085), ((0, 20), 0.20637022287511694), ((0, 21), 0.32531727518109865), ((0, 24), 0.24158052892638532), ((0, 27), 0.33636974529952823), ((0, 28), 0.08478075393190375), ((0, 30), 0.16667012292884145), ((0, 31), 0.33980113475303814), ((0, 34), 0.354530291000397), ((0, 35), 0.1852378780512154), ((0, 37), 0.3596751154483482), ((0, 38), 0.2491270932609155), ((1, 2), 0.13386646608105776), ((1, 5), 0.5922063461134326), ((1, 6), 0.44107595198864735), ((1, 8), 0.5428994344554952), ((1, 9), 0.39714458329563), ((1, 12), 0.581485310231567), ((1, 13), 0.20439305546793632), ((1, 15), 0.42407887768622093), ((1, 16), 0.4224093113852828), ((1, 19), 0.4481331652666223), ((1, 20), 0.27069032563212697), ((1, 22), 0.7398527736076017), ((1, 23), 0.4415946903740422), ((1, 26), 0.3823857750075804), ((1, 29), 0.4887986434378861), ((1, 30), 0.28843081978243745), ((1, 33), 0.6228427406177374), ((1, 36), 0.4188037915185531), ((1, 37), 0.6437563356148973)]\n"
          ]
        },
        {
          "data": {
            "text/plain": [
              "True"
            ]
          },
          "execution_count": 42,
          "metadata": {},
          "output_type": "execute_result"
        }
      ],
      "source": [
        "\n",
        "# Определение размеров матриц\n",
        "I = 2  # Количество строк первой матрицы и строк в итоговой матрице\n",
        "J = 3  # Количество столбцов первой матрицы и строк второй матрицы\n",
        "K = 4*10  # Количество столбцов второй матрицы и столбцов в итоговой матрице\n",
        "\n",
        "# Генерация случайных матриц\n",
        "small_mat = np.random.rand(I, J)  # Генерация первой матрицы\n",
        "big_mat = np.random.rand(J, K)  # Генерация второй матрицы\n",
        "\n",
        "# Получение эталонного решения через умножение матриц\n",
        "reference_solution = np.matmul(small_mat, big_mat)\n",
        "\n",
        "# Функция для \"разглаживания\" вложенных итерируемых объектов\n",
        "def flatten(nested_iterable):\n",
        "  for iterable in nested_iterable:\n",
        "    for element in iterable:\n",
        "      yield element\n",
        "\n",
        "# Функция для группировки элементов по ключу\n",
        "def groupbykey(iterable):\n",
        "  t = {}\n",
        "  for (k2, v2) in iterable:\n",
        "    t[k2] = t.get(k2, []) + [v2]\n",
        "  return t.items()\n",
        "\n",
        "# Функция для распределенной группировки элементов по ключу\n",
        "def groupbykey_distributed(map_partitions, PARTITIONER):\n",
        "  global reducers\n",
        "  partitions = [dict() for _ in range(reducers)]\n",
        "  for map_partition in map_partitions:\n",
        "    for (k2, v2) in map_partition:\n",
        "      p = partitions[PARTITIONER(k2)]\n",
        "      p[k2] = p.get(k2, []) + [v2]\n",
        "  return [(partition_id, sorted(partition.items(), key=lambda x: x[0])) for (partition_id, partition) in enumerate(partitions)]\n",
        "\n",
        "# Функция для определения разделителя (по ключу)\n",
        "def PARTITIONER(obj):\n",
        "  global reducers\n",
        "  return hash(obj) % reducers\n",
        "\n",
        "# Функция для выполнения MapReduce на распределенных данных\n",
        "def MapReduceDistributed(INPUTFORMAT, MAP, REDUCE, PARTITIONER=PARTITIONER, COMBINER=None):\n",
        "  map_partitions = map(lambda record_reader: flatten(map(lambda k1v1: MAP(*k1v1), record_reader)), INPUTFORMAT())\n",
        "\n",
        "  if COMBINER != None:\n",
        "    map_partitions = map(lambda map_partition: flatten(map(lambda k2v2: COMBINER(*k2v2), groupbykey(map_partition))), map_partitions)\n",
        "\n",
        "  reduce_partitions = groupbykey_distributed(map_partitions, PARTITIONER)  # shuffle\n",
        "\n",
        "  reduce_outputs = map(lambda reduce_partition: (reduce_partition[0], flatten(map(lambda reduce_input_group: REDUCE(*reduce_input_group), reduce_partition[1]))), reduce_partitions)\n",
        "\n",
        "  print(\"{} key-value pairs were sent over a network.\".format(sum([len(vs) for (k,vs) in flatten([partition for (partition_id, partition) in reduce_partitions])])))\n",
        "  return reduce_outputs\n",
        "\n",
        "# Функция для преобразования результата REDUCE в матрицу\n",
        "def asmatrix(reduce_output):\n",
        "  reduce_output = list(reduce_output)\n",
        "  I = max(i for ((i,k), vw) in reduce_output) + 1\n",
        "  K = max(k for ((i,k), vw) in reduce_output) + 1\n",
        "  mat = np.empty(shape=(I,K))\n",
        "  for ((i,k), vw) in reduce_output:\n",
        "    mat[i,k] = vw\n",
        "  return mat\n",
        "\n",
        "# Генератор для вводных данных\n",
        "def INPUTFORMAT():\n",
        "  first_mat = []\n",
        "\n",
        "  for i in range(small_mat.shape[0]):\n",
        "    for j in range(small_mat.shape[1]):\n",
        "      first_mat.append(((0, i, j), small_mat[i,j]))  # первая матрица\n",
        "\n",
        "  global maps\n",
        "  split_size = int(np.ceil(len(first_mat)/maps))\n",
        "\n",
        "  for i in range(0, len(first_mat), split_size):\n",
        "    yield first_mat[i:i+split_size]\n",
        "\n",
        "  second_mat = []\n",
        "\n",
        "  for j in range(big_mat.shape[0]):\n",
        "    for k in range(big_mat.shape[1]):\n",
        "      second_mat.append(((1, j, k), big_mat[j,k]))  # вторая матрица\n",
        "\n",
        "  split_size = int(np.ceil(len(second_mat)/maps))\n",
        "\n",
        "  for i in range(0, len(second_mat), split_size):\n",
        "    yield second_mat[i:i+split_size]\n",
        "\n",
        "# MAP функция для соединения матриц\n",
        "def MAP_JOIN(k1, v1):\n",
        "  (mat_num, i, j) = k1\n",
        "  w = v1\n",
        "\n",
        "  if mat_num == 0:\n",
        "    yield (j, (mat_num, i, w))\n",
        "\n",
        "  else:\n",
        "    yield (i, (mat_num, j, w))\n",
        "\n",
        "# REDUCE функция для соединения матриц\n",
        "def REDUCE_JOIN(key, values):\n",
        "  from_first_mat = [v for v in values if v[0] == 0]\n",
        "  from_second_mat = [v for v in values if v[0] == 1]\n",
        "\n",
        "  for f in from_first_mat:\n",
        "    for s in from_second_mat:\n",
        "      yield ((f[1], s[1]), f[2] * s[2])\n",
        "\n",
        "# Генератор для получения соединенных данных\n",
        "def GET_JOINED():\n",
        "\n",
        "  for j in joined:\n",
        "    print(\"aa\", j)\n",
        "    yield j[1]\n",
        "\n",
        "# MAP функция для умножения значений\n",
        "def MAP_MUL(k1, v1):\n",
        "  yield (k1, v1)\n",
        "\n",
        "# REDUCE функция для умножения значений\n",
        "def REDUCE_MUL(key, values):\n",
        "  res_val = 0\n",
        "\n",
        "  for v in values:\n",
        "    res_val += v\n",
        "  yield (key, res_val)\n",
        "\n",
        "maps = 3\n",
        "reducers = 2\n",
        "\n",
        "# Выполнение MapReduce для соединения матриц\n",
        "partitioned_output = MapReduceDistributed(INPUTFORMAT, MAP_JOIN, REDUCE_JOIN, COMBINER=None)\n",
        "joined = [(partition_id, list(partition)) for (partition_id, partition) in partitioned_output]\n",
        "print(joined)\n",
        "\n",
        "# Выполнение MapReduce для умножения значений\n",
        "mul_output = MapReduceDistributed(GET_JOINED, MAP_MUL, REDUCE_MUL, COMBINER=None)\n",
        "pre_result = [(partition_id, list(partition)) for (partition_id, partition) in mul_output]\n",
        "print(pre_result)\n",
        "\n",
        "solution = []\n",
        "\n",
        "for p in pre_result:\n",
        "\n",
        "  for v in p[1]:\n",
        "    solution.append(v)\n",
        "\n",
        "print(solution)\n",
        "\n",
        "np.allclose(reference_solution, asmatrix(solution))"
      ]
    },
    {
      "cell_type": "markdown",
      "metadata": {},
      "source": [
        "Решение будет работать, так как каждая пара элементов, генерируемая RECORDREADER, идентифицируется по ее индексам"
      ]
    }
  ],
  "metadata": {
    "colab": {
      "provenance": []
    },
    "kernelspec": {
      "display_name": "Python 3",
      "name": "python3"
    },
    "language_info": {
      "codemirror_mode": {
        "name": "ipython",
        "version": 3
      },
      "file_extension": ".py",
      "mimetype": "text/x-python",
      "name": "python",
      "nbconvert_exporter": "python",
      "pygments_lexer": "ipython3",
      "version": "3.9.13"
    }
  },
  "nbformat": 4,
  "nbformat_minor": 0
}
